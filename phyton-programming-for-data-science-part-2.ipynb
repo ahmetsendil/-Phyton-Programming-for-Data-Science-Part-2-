{
 "cells": [
  {
   "cell_type": "code",
   "execution_count": 1,
   "id": "1539a812",
   "metadata": {
    "_cell_guid": "b1076dfc-b9ad-4769-8c92-a6c4dae69d19",
    "_uuid": "8f2839f25d086af736a60e9eeb907d3b93b6e0e5",
    "execution": {
     "iopub.execute_input": "2025-02-25T11:23:47.047722Z",
     "iopub.status.busy": "2025-02-25T11:23:47.047419Z",
     "iopub.status.idle": "2025-02-25T11:23:48.299751Z",
     "shell.execute_reply": "2025-02-25T11:23:48.298671Z"
    },
    "papermill": {
     "duration": 1.264115,
     "end_time": "2025-02-25T11:23:48.301382",
     "exception": false,
     "start_time": "2025-02-25T11:23:47.037267",
     "status": "completed"
    },
    "tags": []
   },
   "outputs": [
    {
     "name": "stdout",
     "output_type": "stream",
     "text": [
      "/kaggle/input/persona-data-set/persona.csv\n"
     ]
    }
   ],
   "source": [
    "# This Python 3 environment comes with many helpful analytics libraries installed\n",
    "# It is defined by the kaggle/python Docker image: https://github.com/kaggle/docker-python\n",
    "# For example, here's several helpful packages to load\n",
    "\n",
    "import numpy as np # linear algebra\n",
    "import pandas as pd # data processing, CSV file I/O (e.g. pd.read_csv)\n",
    "\n",
    "# Input data files are available in the read-only \"../input/\" directory\n",
    "# For example, running this (by clicking run or pressing Shift+Enter) will list all files under the input directory\n",
    "\n",
    "import os\n",
    "for dirname, _, filenames in os.walk('/kaggle/input'):\n",
    "    for filename in filenames:\n",
    "        print(os.path.join(dirname, filename))\n",
    "\n",
    "# You can write up to 20GB to the current directory (/kaggle/working/) that gets preserved as output when you create a version using \"Save & Run All\" \n",
    "# You can also write temporary files to /kaggle/temp/, but they won't be saved outside of the current session"
   ]
  },
  {
   "cell_type": "code",
   "execution_count": 2,
   "id": "9f1b24c6",
   "metadata": {
    "execution": {
     "iopub.execute_input": "2025-02-25T11:23:48.320021Z",
     "iopub.status.busy": "2025-02-25T11:23:48.319616Z",
     "iopub.status.idle": "2025-02-25T11:23:48.324256Z",
     "shell.execute_reply": "2025-02-25T11:23:48.323065Z"
    },
    "papermill": {
     "duration": 0.016003,
     "end_time": "2025-02-25T11:23:48.326356",
     "exception": false,
     "start_time": "2025-02-25T11:23:48.310353",
     "status": "completed"
    },
    "tags": []
   },
   "outputs": [],
   "source": [
    "import numpy as np\n",
    "import pandas as pd\n",
    "import matplotlib as plt\n",
    "\n",
    "pd.set_option(\"display.max_rows\", None)\n",
    "pd.set_option(\"display.width\", 500)"
   ]
  },
  {
   "cell_type": "code",
   "execution_count": 3,
   "id": "36d3f990",
   "metadata": {
    "execution": {
     "iopub.execute_input": "2025-02-25T11:23:48.345754Z",
     "iopub.status.busy": "2025-02-25T11:23:48.345406Z",
     "iopub.status.idle": "2025-02-25T11:23:48.352294Z",
     "shell.execute_reply": "2025-02-25T11:23:48.351283Z"
    },
    "papermill": {
     "duration": 0.017263,
     "end_time": "2025-02-25T11:23:48.353486",
     "exception": false,
     "start_time": "2025-02-25T11:23:48.336223",
     "status": "completed"
    },
    "tags": []
   },
   "outputs": [
    {
     "data": {
      "text/plain": [
       "numpy.ndarray"
      ]
     },
     "execution_count": 3,
     "metadata": {},
     "output_type": "execute_result"
    }
   ],
   "source": [
    "np.array([1, 2, 3, 4, 5])\n",
    "type(np.array([1, 2, 3, 4, 5]))"
   ]
  },
  {
   "cell_type": "code",
   "execution_count": 4,
   "id": "7c05aa32",
   "metadata": {
    "execution": {
     "iopub.execute_input": "2025-02-25T11:23:48.371460Z",
     "iopub.status.busy": "2025-02-25T11:23:48.371175Z",
     "iopub.status.idle": "2025-02-25T11:23:48.380323Z",
     "shell.execute_reply": "2025-02-25T11:23:48.379065Z"
    },
    "papermill": {
     "duration": 0.020053,
     "end_time": "2025-02-25T11:23:48.382196",
     "exception": false,
     "start_time": "2025-02-25T11:23:48.362143",
     "status": "completed"
    },
    "tags": []
   },
   "outputs": [
    {
     "data": {
      "text/plain": [
       "array([0, 0, 0, 0, 0, 0, 0, 0, 0, 0])"
      ]
     },
     "execution_count": 4,
     "metadata": {},
     "output_type": "execute_result"
    }
   ],
   "source": [
    "np.zeros(10, dtype=int)"
   ]
  },
  {
   "cell_type": "code",
   "execution_count": 5,
   "id": "130d973f",
   "metadata": {
    "execution": {
     "iopub.execute_input": "2025-02-25T11:23:48.400762Z",
     "iopub.status.busy": "2025-02-25T11:23:48.400420Z",
     "iopub.status.idle": "2025-02-25T11:23:48.408239Z",
     "shell.execute_reply": "2025-02-25T11:23:48.407159Z"
    },
    "papermill": {
     "duration": 0.018804,
     "end_time": "2025-02-25T11:23:48.409762",
     "exception": false,
     "start_time": "2025-02-25T11:23:48.390958",
     "status": "completed"
    },
    "tags": []
   },
   "outputs": [
    {
     "data": {
      "text/plain": [
       "array([0, 6, 7, 1, 9, 3, 5, 0, 8, 8])"
      ]
     },
     "execution_count": 5,
     "metadata": {},
     "output_type": "execute_result"
    }
   ],
   "source": [
    "np.random.randint(0, 10, size=10)"
   ]
  },
  {
   "cell_type": "code",
   "execution_count": 6,
   "id": "e3bbc016",
   "metadata": {
    "execution": {
     "iopub.execute_input": "2025-02-25T11:23:48.428951Z",
     "iopub.status.busy": "2025-02-25T11:23:48.428311Z",
     "iopub.status.idle": "2025-02-25T11:23:48.435291Z",
     "shell.execute_reply": "2025-02-25T11:23:48.433873Z"
    },
    "papermill": {
     "duration": 0.018487,
     "end_time": "2025-02-25T11:23:48.437277",
     "exception": false,
     "start_time": "2025-02-25T11:23:48.418790",
     "status": "completed"
    },
    "tags": []
   },
   "outputs": [
    {
     "data": {
      "text/plain": [
       "array([[15.41903989,  7.35206493,  1.76793313,  7.79823956],\n",
       "       [12.67737558, 16.64258569,  9.8109456 , 11.64089405],\n",
       "       [10.301241  ,  9.09680394,  6.67954494,  8.01165615]])"
      ]
     },
     "execution_count": 6,
     "metadata": {},
     "output_type": "execute_result"
    }
   ],
   "source": [
    "np.random.normal(10, 4, (3, 4))"
   ]
  },
  {
   "cell_type": "code",
   "execution_count": 7,
   "id": "ffe01037",
   "metadata": {
    "execution": {
     "iopub.execute_input": "2025-02-25T11:23:48.456314Z",
     "iopub.status.busy": "2025-02-25T11:23:48.456016Z",
     "iopub.status.idle": "2025-02-25T11:23:48.461712Z",
     "shell.execute_reply": "2025-02-25T11:23:48.460925Z"
    },
    "papermill": {
     "duration": 0.016352,
     "end_time": "2025-02-25T11:23:48.462933",
     "exception": false,
     "start_time": "2025-02-25T11:23:48.446581",
     "status": "completed"
    },
    "tags": []
   },
   "outputs": [
    {
     "data": {
      "text/plain": [
       "array([[67.24207067, 60.16629812, 58.33402645],\n",
       "       [61.92131105, 59.10166448, 59.90476912],\n",
       "       [56.42413388, 61.49319191, 60.90138652]])"
      ]
     },
     "execution_count": 7,
     "metadata": {},
     "output_type": "execute_result"
    }
   ],
   "source": [
    "np.random.normal(60, 3, (3, 3))"
   ]
  },
  {
   "cell_type": "code",
   "execution_count": 8,
   "id": "ba862306",
   "metadata": {
    "execution": {
     "iopub.execute_input": "2025-02-25T11:23:48.481655Z",
     "iopub.status.busy": "2025-02-25T11:23:48.481262Z",
     "iopub.status.idle": "2025-02-25T11:23:48.487825Z",
     "shell.execute_reply": "2025-02-25T11:23:48.486437Z"
    },
    "papermill": {
     "duration": 0.017323,
     "end_time": "2025-02-25T11:23:48.489274",
     "exception": false,
     "start_time": "2025-02-25T11:23:48.471951",
     "status": "completed"
    },
    "tags": []
   },
   "outputs": [
    {
     "data": {
      "text/plain": [
       "array([[64.42997122, 74.64930484, 65.42708863],\n",
       "       [62.73813816, 71.04412018, 61.38041654],\n",
       "       [64.59225844, 71.12071788, 63.40795115]])"
      ]
     },
     "execution_count": 8,
     "metadata": {},
     "output_type": "execute_result"
    }
   ],
   "source": [
    "np.random.normal(65, 5, (3, 3))"
   ]
  },
  {
   "cell_type": "code",
   "execution_count": 9,
   "id": "1249804c",
   "metadata": {
    "execution": {
     "iopub.execute_input": "2025-02-25T11:23:48.508015Z",
     "iopub.status.busy": "2025-02-25T11:23:48.507705Z",
     "iopub.status.idle": "2025-02-25T11:23:48.512145Z",
     "shell.execute_reply": "2025-02-25T11:23:48.510940Z"
    },
    "papermill": {
     "duration": 0.015699,
     "end_time": "2025-02-25T11:23:48.513942",
     "exception": false,
     "start_time": "2025-02-25T11:23:48.498243",
     "status": "completed"
    },
    "tags": []
   },
   "outputs": [],
   "source": [
    "a = np.random.randint(10, size=10)"
   ]
  },
  {
   "cell_type": "code",
   "execution_count": 10,
   "id": "3b10c2fe",
   "metadata": {
    "execution": {
     "iopub.execute_input": "2025-02-25T11:23:48.532470Z",
     "iopub.status.busy": "2025-02-25T11:23:48.532170Z",
     "iopub.status.idle": "2025-02-25T11:23:48.537369Z",
     "shell.execute_reply": "2025-02-25T11:23:48.536384Z"
    },
    "papermill": {
     "duration": 0.016036,
     "end_time": "2025-02-25T11:23:48.538986",
     "exception": false,
     "start_time": "2025-02-25T11:23:48.522950",
     "status": "completed"
    },
    "tags": []
   },
   "outputs": [
    {
     "data": {
      "text/plain": [
       "1"
      ]
     },
     "execution_count": 10,
     "metadata": {},
     "output_type": "execute_result"
    }
   ],
   "source": [
    "a[0]"
   ]
  },
  {
   "cell_type": "code",
   "execution_count": 11,
   "id": "f9de2f72",
   "metadata": {
    "execution": {
     "iopub.execute_input": "2025-02-25T11:23:48.557216Z",
     "iopub.status.busy": "2025-02-25T11:23:48.556969Z",
     "iopub.status.idle": "2025-02-25T11:23:48.562387Z",
     "shell.execute_reply": "2025-02-25T11:23:48.561287Z"
    },
    "papermill": {
     "duration": 0.015833,
     "end_time": "2025-02-25T11:23:48.563747",
     "exception": false,
     "start_time": "2025-02-25T11:23:48.547914",
     "status": "completed"
    },
    "tags": []
   },
   "outputs": [
    {
     "data": {
      "text/plain": [
       "array([1, 7, 7, 5, 7])"
      ]
     },
     "execution_count": 11,
     "metadata": {},
     "output_type": "execute_result"
    }
   ],
   "source": [
    "a[0:5]"
   ]
  },
  {
   "cell_type": "code",
   "execution_count": 12,
   "id": "1329f3f7",
   "metadata": {
    "execution": {
     "iopub.execute_input": "2025-02-25T11:23:48.582086Z",
     "iopub.status.busy": "2025-02-25T11:23:48.581735Z",
     "iopub.status.idle": "2025-02-25T11:23:48.586025Z",
     "shell.execute_reply": "2025-02-25T11:23:48.584919Z"
    },
    "papermill": {
     "duration": 0.014997,
     "end_time": "2025-02-25T11:23:48.587478",
     "exception": false,
     "start_time": "2025-02-25T11:23:48.572481",
     "status": "completed"
    },
    "tags": []
   },
   "outputs": [],
   "source": [
    "m = np.random.randint(10, size=(3, 5))"
   ]
  },
  {
   "cell_type": "code",
   "execution_count": 13,
   "id": "24b34df7",
   "metadata": {
    "execution": {
     "iopub.execute_input": "2025-02-25T11:23:48.606746Z",
     "iopub.status.busy": "2025-02-25T11:23:48.606346Z",
     "iopub.status.idle": "2025-02-25T11:23:48.612004Z",
     "shell.execute_reply": "2025-02-25T11:23:48.611143Z"
    },
    "papermill": {
     "duration": 0.017258,
     "end_time": "2025-02-25T11:23:48.613886",
     "exception": false,
     "start_time": "2025-02-25T11:23:48.596628",
     "status": "completed"
    },
    "tags": []
   },
   "outputs": [
    {
     "data": {
      "text/plain": [
       "2"
      ]
     },
     "execution_count": 13,
     "metadata": {},
     "output_type": "execute_result"
    }
   ],
   "source": [
    "m[1, 1]"
   ]
  },
  {
   "cell_type": "code",
   "execution_count": 14,
   "id": "e595e1b9",
   "metadata": {
    "execution": {
     "iopub.execute_input": "2025-02-25T11:23:48.634653Z",
     "iopub.status.busy": "2025-02-25T11:23:48.634252Z",
     "iopub.status.idle": "2025-02-25T11:23:48.640265Z",
     "shell.execute_reply": "2025-02-25T11:23:48.638491Z"
    },
    "papermill": {
     "duration": 0.01778,
     "end_time": "2025-02-25T11:23:48.641924",
     "exception": false,
     "start_time": "2025-02-25T11:23:48.624144",
     "status": "completed"
    },
    "tags": []
   },
   "outputs": [
    {
     "data": {
      "text/plain": [
       "5"
      ]
     },
     "execution_count": 14,
     "metadata": {},
     "output_type": "execute_result"
    }
   ],
   "source": [
    "m[2, 2]"
   ]
  },
  {
   "cell_type": "code",
   "execution_count": 15,
   "id": "28baca7b",
   "metadata": {
    "execution": {
     "iopub.execute_input": "2025-02-25T11:23:48.660912Z",
     "iopub.status.busy": "2025-02-25T11:23:48.660603Z",
     "iopub.status.idle": "2025-02-25T11:23:48.749917Z",
     "shell.execute_reply": "2025-02-25T11:23:48.748452Z"
    },
    "papermill": {
     "duration": 0.100866,
     "end_time": "2025-02-25T11:23:48.751974",
     "exception": true,
     "start_time": "2025-02-25T11:23:48.651108",
     "status": "failed"
    },
    "tags": []
   },
   "outputs": [
    {
     "ename": "IndexError",
     "evalue": "index 3 is out of bounds for axis 0 with size 3",
     "output_type": "error",
     "traceback": [
      "\u001b[0;31m---------------------------------------------------------------------------\u001b[0m",
      "\u001b[0;31mIndexError\u001b[0m                                Traceback (most recent call last)",
      "\u001b[0;32m<ipython-input-15-00f32d13f731>\u001b[0m in \u001b[0;36m<cell line: 1>\u001b[0;34m()\u001b[0m\n\u001b[0;32m----> 1\u001b[0;31m \u001b[0mm\u001b[0m\u001b[0;34m[\u001b[0m\u001b[0;36m3\u001b[0m\u001b[0;34m,\u001b[0m \u001b[0;36m3\u001b[0m\u001b[0;34m]\u001b[0m\u001b[0;34m\u001b[0m\u001b[0;34m\u001b[0m\u001b[0m\n\u001b[0m",
      "\u001b[0;31mIndexError\u001b[0m: index 3 is out of bounds for axis 0 with size 3"
     ]
    }
   ],
   "source": [
    "m[3, 3]"
   ]
  },
  {
   "cell_type": "markdown",
   "id": "6187d54d",
   "metadata": {
    "papermill": {
     "duration": null,
     "end_time": null,
     "exception": null,
     "start_time": null,
     "status": "pending"
    },
    "tags": []
   },
   "source": [
    "Rows has 0,1,2 and that means until 3, is not 3."
   ]
  },
  {
   "cell_type": "code",
   "execution_count": null,
   "id": "398d7436",
   "metadata": {
    "execution": {
     "iopub.execute_input": "2025-02-23T11:17:26.491134Z",
     "iopub.status.busy": "2025-02-23T11:17:26.490763Z",
     "iopub.status.idle": "2025-02-23T11:17:26.496032Z",
     "shell.execute_reply": "2025-02-23T11:17:26.494685Z",
     "shell.execute_reply.started": "2025-02-23T11:17:26.491104Z"
    },
    "papermill": {
     "duration": null,
     "end_time": null,
     "exception": null,
     "start_time": null,
     "status": "pending"
    },
    "tags": []
   },
   "outputs": [],
   "source": [
    "m[2, 4] = 3.6 "
   ]
  },
  {
   "cell_type": "code",
   "execution_count": null,
   "id": "15c9f41b",
   "metadata": {
    "execution": {
     "iopub.execute_input": "2025-02-23T11:17:27.335339Z",
     "iopub.status.busy": "2025-02-23T11:17:27.334979Z",
     "iopub.status.idle": "2025-02-23T11:17:27.341726Z",
     "shell.execute_reply": "2025-02-23T11:17:27.340479Z",
     "shell.execute_reply.started": "2025-02-23T11:17:27.335312Z"
    },
    "papermill": {
     "duration": null,
     "end_time": null,
     "exception": null,
     "start_time": null,
     "status": "pending"
    },
    "tags": []
   },
   "outputs": [],
   "source": [
    "m[:, 0] # tüm satırları ve sıfırıncı sütunu seç"
   ]
  },
  {
   "cell_type": "code",
   "execution_count": null,
   "id": "e49caae9",
   "metadata": {
    "execution": {
     "iopub.execute_input": "2025-02-23T11:17:28.797464Z",
     "iopub.status.busy": "2025-02-23T11:17:28.797062Z",
     "iopub.status.idle": "2025-02-23T11:17:28.804093Z",
     "shell.execute_reply": "2025-02-23T11:17:28.802849Z",
     "shell.execute_reply.started": "2025-02-23T11:17:28.797433Z"
    },
    "papermill": {
     "duration": null,
     "end_time": null,
     "exception": null,
     "start_time": null,
     "status": "pending"
    },
    "tags": []
   },
   "outputs": [],
   "source": [
    "m[1, :] # birinci satır ve tüm sütunları seç"
   ]
  },
  {
   "cell_type": "code",
   "execution_count": null,
   "id": "373e328f",
   "metadata": {
    "execution": {
     "iopub.execute_input": "2025-02-23T11:17:30.101599Z",
     "iopub.status.busy": "2025-02-23T11:17:30.101190Z",
     "iopub.status.idle": "2025-02-23T11:17:30.108358Z",
     "shell.execute_reply": "2025-02-23T11:17:30.107165Z",
     "shell.execute_reply.started": "2025-02-23T11:17:30.101571Z"
    },
    "papermill": {
     "duration": null,
     "end_time": null,
     "exception": null,
     "start_time": null,
     "status": "pending"
    },
    "tags": []
   },
   "outputs": [],
   "source": [
    "m[1, :] # birinci satır ve tüm sütunları seç"
   ]
  },
  {
   "cell_type": "code",
   "execution_count": null,
   "id": "be03ada5",
   "metadata": {
    "execution": {
     "iopub.execute_input": "2025-02-23T11:25:13.818365Z",
     "iopub.status.busy": "2025-02-23T11:25:13.817959Z",
     "iopub.status.idle": "2025-02-23T11:25:13.825423Z",
     "shell.execute_reply": "2025-02-23T11:25:13.824214Z",
     "shell.execute_reply.started": "2025-02-23T11:25:13.818334Z"
    },
    "papermill": {
     "duration": null,
     "end_time": null,
     "exception": null,
     "start_time": null,
     "status": "pending"
    },
    "tags": []
   },
   "outputs": [],
   "source": [
    "m[0:2, 0:3] # satırlarda 0'dan 2'ye kadar, sütunlarda 0'dan 3'e kadar git"
   ]
  },
  {
   "cell_type": "markdown",
   "id": "c925024c",
   "metadata": {
    "papermill": {
     "duration": null,
     "end_time": null,
     "exception": null,
     "start_time": null,
     "status": "pending"
    },
    "tags": []
   },
   "source": [
    "Fancy Index"
   ]
  },
  {
   "cell_type": "code",
   "execution_count": null,
   "id": "5618f703",
   "metadata": {
    "execution": {
     "iopub.execute_input": "2025-02-23T11:25:15.846022Z",
     "iopub.status.busy": "2025-02-23T11:25:15.845613Z",
     "iopub.status.idle": "2025-02-23T11:25:15.851431Z",
     "shell.execute_reply": "2025-02-23T11:25:15.850175Z",
     "shell.execute_reply.started": "2025-02-23T11:25:15.845989Z"
    },
    "papermill": {
     "duration": null,
     "end_time": null,
     "exception": null,
     "start_time": null,
     "status": "pending"
    },
    "tags": []
   },
   "outputs": [],
   "source": [
    "v = np.arange(0, 30, 3) # sıfırdan otuza kadar 3'er 3'er artan bir array"
   ]
  },
  {
   "cell_type": "code",
   "execution_count": null,
   "id": "f6263b0d",
   "metadata": {
    "execution": {
     "iopub.execute_input": "2025-02-23T11:25:17.041391Z",
     "iopub.status.busy": "2025-02-23T11:25:17.040954Z",
     "iopub.status.idle": "2025-02-23T11:25:17.048484Z",
     "shell.execute_reply": "2025-02-23T11:25:17.047216Z",
     "shell.execute_reply.started": "2025-02-23T11:25:17.041359Z"
    },
    "papermill": {
     "duration": null,
     "end_time": null,
     "exception": null,
     "start_time": null,
     "status": "pending"
    },
    "tags": []
   },
   "outputs": [],
   "source": [
    "v[1]"
   ]
  },
  {
   "cell_type": "code",
   "execution_count": null,
   "id": "46563ece",
   "metadata": {
    "execution": {
     "iopub.execute_input": "2025-02-23T11:25:18.713674Z",
     "iopub.status.busy": "2025-02-23T11:25:18.713340Z",
     "iopub.status.idle": "2025-02-23T11:25:18.720357Z",
     "shell.execute_reply": "2025-02-23T11:25:18.719306Z",
     "shell.execute_reply.started": "2025-02-23T11:25:18.713650Z"
    },
    "papermill": {
     "duration": null,
     "end_time": null,
     "exception": null,
     "start_time": null,
     "status": "pending"
    },
    "tags": []
   },
   "outputs": [],
   "source": [
    "catch = [2, 3, 4]\n",
    "v[catch]"
   ]
  },
  {
   "cell_type": "markdown",
   "id": "af760abd",
   "metadata": {
    "papermill": {
     "duration": null,
     "end_time": null,
     "exception": null,
     "start_time": null,
     "status": "pending"
    },
    "tags": []
   },
   "source": [
    "NumPy'da Koşullu İşlemler (Conditions on NumPy)"
   ]
  },
  {
   "cell_type": "code",
   "execution_count": null,
   "id": "6459e24d",
   "metadata": {
    "execution": {
     "iopub.execute_input": "2025-02-23T11:25:20.278061Z",
     "iopub.status.busy": "2025-02-23T11:25:20.277723Z",
     "iopub.status.idle": "2025-02-23T11:25:20.283469Z",
     "shell.execute_reply": "2025-02-23T11:25:20.281866Z",
     "shell.execute_reply.started": "2025-02-23T11:25:20.278035Z"
    },
    "papermill": {
     "duration": null,
     "end_time": null,
     "exception": null,
     "start_time": null,
     "status": "pending"
    },
    "tags": []
   },
   "outputs": [],
   "source": [
    "v = np.array([1, 2, 3, 4, 5])"
   ]
  },
  {
   "cell_type": "code",
   "execution_count": null,
   "id": "41b11018",
   "metadata": {
    "execution": {
     "iopub.execute_input": "2025-02-23T11:25:21.392654Z",
     "iopub.status.busy": "2025-02-23T11:25:21.392156Z",
     "iopub.status.idle": "2025-02-23T11:25:21.402312Z",
     "shell.execute_reply": "2025-02-23T11:25:21.401119Z",
     "shell.execute_reply.started": "2025-02-23T11:25:21.392614Z"
    },
    "papermill": {
     "duration": null,
     "end_time": null,
     "exception": null,
     "start_time": null,
     "status": "pending"
    },
    "tags": []
   },
   "outputs": [],
   "source": [
    "v[v < 3] "
   ]
  },
  {
   "cell_type": "code",
   "execution_count": null,
   "id": "4c262511",
   "metadata": {
    "execution": {
     "iopub.execute_input": "2025-02-23T11:25:22.736343Z",
     "iopub.status.busy": "2025-02-23T11:25:22.735929Z",
     "iopub.status.idle": "2025-02-23T11:25:22.743571Z",
     "shell.execute_reply": "2025-02-23T11:25:22.742180Z",
     "shell.execute_reply.started": "2025-02-23T11:25:22.736311Z"
    },
    "papermill": {
     "duration": null,
     "end_time": null,
     "exception": null,
     "start_time": null,
     "status": "pending"
    },
    "tags": []
   },
   "outputs": [],
   "source": [
    "v[v != 3]"
   ]
  },
  {
   "cell_type": "markdown",
   "id": "ec693e61",
   "metadata": {
    "papermill": {
     "duration": null,
     "end_time": null,
     "exception": null,
     "start_time": null,
     "status": "pending"
    },
    "tags": []
   },
   "source": [
    "Matematiksel İşlemler (Mathematical Operations)"
   ]
  },
  {
   "cell_type": "code",
   "execution_count": null,
   "id": "89f49373",
   "metadata": {
    "execution": {
     "iopub.execute_input": "2025-02-23T11:25:25.437104Z",
     "iopub.status.busy": "2025-02-23T11:25:25.436665Z",
     "iopub.status.idle": "2025-02-23T11:25:25.442077Z",
     "shell.execute_reply": "2025-02-23T11:25:25.440778Z",
     "shell.execute_reply.started": "2025-02-23T11:25:25.437070Z"
    },
    "papermill": {
     "duration": null,
     "end_time": null,
     "exception": null,
     "start_time": null,
     "status": "pending"
    },
    "tags": []
   },
   "outputs": [],
   "source": [
    "v = np.array([1, 2, 3, 4, 5])"
   ]
  },
  {
   "cell_type": "code",
   "execution_count": null,
   "id": "91c8c827",
   "metadata": {
    "execution": {
     "iopub.execute_input": "2025-02-23T11:25:26.713481Z",
     "iopub.status.busy": "2025-02-23T11:25:26.713104Z",
     "iopub.status.idle": "2025-02-23T11:25:26.720242Z",
     "shell.execute_reply": "2025-02-23T11:25:26.719183Z",
     "shell.execute_reply.started": "2025-02-23T11:25:26.713449Z"
    },
    "papermill": {
     "duration": null,
     "end_time": null,
     "exception": null,
     "start_time": null,
     "status": "pending"
    },
    "tags": []
   },
   "outputs": [],
   "source": [
    "v * 5 / 10"
   ]
  },
  {
   "cell_type": "markdown",
   "id": "063f81a6",
   "metadata": {
    "papermill": {
     "duration": null,
     "end_time": null,
     "exception": null,
     "start_time": null,
     "status": "pending"
    },
    "tags": []
   },
   "source": [
    "Solving a System of Two Linear Equations with NumPy"
   ]
  },
  {
   "cell_type": "code",
   "execution_count": null,
   "id": "b39c47a4",
   "metadata": {
    "execution": {
     "iopub.execute_input": "2025-02-23T11:25:28.136972Z",
     "iopub.status.busy": "2025-02-23T11:25:28.136583Z",
     "iopub.status.idle": "2025-02-23T11:25:28.170165Z",
     "shell.execute_reply": "2025-02-23T11:25:28.169087Z",
     "shell.execute_reply.started": "2025-02-23T11:25:28.136944Z"
    },
    "papermill": {
     "duration": null,
     "end_time": null,
     "exception": null,
     "start_time": null,
     "status": "pending"
    },
    "tags": []
   },
   "outputs": [],
   "source": [
    "# 5*x0 + x1 = 12\n",
    "# x0 + 3*x1 = 10\n",
    "\n",
    "a = np.array([[5, 1], [1, 3]]) # birinci elemanlar birinci değişkenin katsayılarıdır.\n",
    "                               # ikinciler ikinci değişkenin katsayıları\n",
    "b = np.array([12, 10]) # sonuçlar ise bu arrayde\n",
    "np.linalg.solve(a, b)"
   ]
  },
  {
   "cell_type": "markdown",
   "id": "f5783762",
   "metadata": {
    "papermill": {
     "duration": null,
     "end_time": null,
     "exception": null,
     "start_time": null,
     "status": "pending"
    },
    "tags": []
   },
   "source": [
    "Data Analysis with Python: Pandas"
   ]
  },
  {
   "cell_type": "code",
   "execution_count": null,
   "id": "d5defaae",
   "metadata": {
    "execution": {
     "iopub.execute_input": "2025-02-23T11:25:29.912868Z",
     "iopub.status.busy": "2025-02-23T11:25:29.912537Z",
     "iopub.status.idle": "2025-02-23T11:25:29.922393Z",
     "shell.execute_reply": "2025-02-23T11:25:29.921100Z",
     "shell.execute_reply.started": "2025-02-23T11:25:29.912841Z"
    },
    "papermill": {
     "duration": null,
     "end_time": null,
     "exception": null,
     "start_time": null,
     "status": "pending"
    },
    "tags": []
   },
   "outputs": [],
   "source": [
    "s = pd.Series([10, 77, 12, 4, 5])\n",
    "type(s)"
   ]
  },
  {
   "cell_type": "code",
   "execution_count": null,
   "id": "5090864b",
   "metadata": {
    "execution": {
     "iopub.execute_input": "2025-02-23T11:25:31.390129Z",
     "iopub.status.busy": "2025-02-23T11:25:31.389739Z",
     "iopub.status.idle": "2025-02-23T11:25:31.470163Z",
     "shell.execute_reply": "2025-02-23T11:25:31.469177Z",
     "shell.execute_reply.started": "2025-02-23T11:25:31.390087Z"
    },
    "papermill": {
     "duration": null,
     "end_time": null,
     "exception": null,
     "start_time": null,
     "status": "pending"
    },
    "tags": []
   },
   "outputs": [],
   "source": [
    "df = pd.read_csv(\"/kaggle/input/persona-data-set/persona.csv\")\n",
    "df.head()"
   ]
  },
  {
   "cell_type": "code",
   "execution_count": null,
   "id": "fd36e633",
   "metadata": {
    "execution": {
     "iopub.execute_input": "2025-02-23T11:25:33.129232Z",
     "iopub.status.busy": "2025-02-23T11:25:33.128859Z",
     "iopub.status.idle": "2025-02-23T11:25:33.136195Z",
     "shell.execute_reply": "2025-02-23T11:25:33.134893Z",
     "shell.execute_reply.started": "2025-02-23T11:25:33.129203Z"
    },
    "papermill": {
     "duration": null,
     "end_time": null,
     "exception": null,
     "start_time": null,
     "status": "pending"
    },
    "tags": []
   },
   "outputs": [],
   "source": [
    "type(df)"
   ]
  },
  {
   "cell_type": "code",
   "execution_count": null,
   "id": "9648e053",
   "metadata": {
    "execution": {
     "iopub.execute_input": "2025-02-23T11:25:34.712721Z",
     "iopub.status.busy": "2025-02-23T11:25:34.712346Z",
     "iopub.status.idle": "2025-02-23T11:25:34.720356Z",
     "shell.execute_reply": "2025-02-23T11:25:34.718908Z",
     "shell.execute_reply.started": "2025-02-23T11:25:34.712687Z"
    },
    "papermill": {
     "duration": null,
     "end_time": null,
     "exception": null,
     "start_time": null,
     "status": "pending"
    },
    "tags": []
   },
   "outputs": [],
   "source": [
    "type(df[\"SEX\"])"
   ]
  },
  {
   "cell_type": "code",
   "execution_count": null,
   "id": "3b60955a",
   "metadata": {
    "execution": {
     "iopub.execute_input": "2025-02-23T11:25:36.903779Z",
     "iopub.status.busy": "2025-02-23T11:25:36.903134Z",
     "iopub.status.idle": "2025-02-23T11:25:36.913344Z",
     "shell.execute_reply": "2025-02-23T11:25:36.911214Z",
     "shell.execute_reply.started": "2025-02-23T11:25:36.903733Z"
    },
    "papermill": {
     "duration": null,
     "end_time": null,
     "exception": null,
     "start_time": null,
     "status": "pending"
    },
    "tags": []
   },
   "outputs": [],
   "source": [
    "type(df[\"COUNTRY\"])"
   ]
  },
  {
   "cell_type": "code",
   "execution_count": null,
   "id": "3c77b1c0",
   "metadata": {
    "execution": {
     "iopub.execute_input": "2025-02-23T11:25:38.328795Z",
     "iopub.status.busy": "2025-02-23T11:25:38.328410Z",
     "iopub.status.idle": "2025-02-23T11:25:38.335931Z",
     "shell.execute_reply": "2025-02-23T11:25:38.334615Z",
     "shell.execute_reply.started": "2025-02-23T11:25:38.328762Z"
    },
    "papermill": {
     "duration": null,
     "end_time": null,
     "exception": null,
     "start_time": null,
     "status": "pending"
    },
    "tags": []
   },
   "outputs": [],
   "source": [
    "type(df[\"AGE\"])"
   ]
  },
  {
   "cell_type": "code",
   "execution_count": null,
   "id": "429c4f62",
   "metadata": {
    "execution": {
     "iopub.execute_input": "2025-02-23T11:25:39.959030Z",
     "iopub.status.busy": "2025-02-23T11:25:39.958665Z",
     "iopub.status.idle": "2025-02-23T11:25:39.966204Z",
     "shell.execute_reply": "2025-02-23T11:25:39.964834Z",
     "shell.execute_reply.started": "2025-02-23T11:25:39.959001Z"
    },
    "papermill": {
     "duration": null,
     "end_time": null,
     "exception": null,
     "start_time": null,
     "status": "pending"
    },
    "tags": []
   },
   "outputs": [],
   "source": [
    "type(df[\"PRICE\"])"
   ]
  },
  {
   "cell_type": "code",
   "execution_count": null,
   "id": "52072a6d",
   "metadata": {
    "execution": {
     "iopub.execute_input": "2025-02-23T11:25:41.944114Z",
     "iopub.status.busy": "2025-02-23T11:25:41.943673Z",
     "iopub.status.idle": "2025-02-23T11:25:41.951202Z",
     "shell.execute_reply": "2025-02-23T11:25:41.950066Z",
     "shell.execute_reply.started": "2025-02-23T11:25:41.944086Z"
    },
    "papermill": {
     "duration": null,
     "end_time": null,
     "exception": null,
     "start_time": null,
     "status": "pending"
    },
    "tags": []
   },
   "outputs": [],
   "source": [
    "type(df[\"SOURCE\"])"
   ]
  },
  {
   "cell_type": "markdown",
   "id": "1f43a65c",
   "metadata": {
    "papermill": {
     "duration": null,
     "end_time": null,
     "exception": null,
     "start_time": null,
     "status": "pending"
    },
    "tags": []
   },
   "source": [
    "Pandas'ta Seçim İşlemleri (Selection in Pandas)"
   ]
  },
  {
   "cell_type": "code",
   "execution_count": null,
   "id": "b869a2dc",
   "metadata": {
    "execution": {
     "iopub.execute_input": "2025-02-23T11:25:43.933032Z",
     "iopub.status.busy": "2025-02-23T11:25:43.932635Z",
     "iopub.status.idle": "2025-02-23T11:25:43.944837Z",
     "shell.execute_reply": "2025-02-23T11:25:43.943864Z",
     "shell.execute_reply.started": "2025-02-23T11:25:43.932988Z"
    },
    "papermill": {
     "duration": null,
     "end_time": null,
     "exception": null,
     "start_time": null,
     "status": "pending"
    },
    "tags": []
   },
   "outputs": [],
   "source": [
    "df[0:13] # slice işlemi"
   ]
  },
  {
   "cell_type": "code",
   "execution_count": null,
   "id": "365b580c",
   "metadata": {
    "execution": {
     "iopub.execute_input": "2025-02-23T11:25:46.316785Z",
     "iopub.status.busy": "2025-02-23T11:25:46.316428Z",
     "iopub.status.idle": "2025-02-23T11:25:46.330220Z",
     "shell.execute_reply": "2025-02-23T11:25:46.328906Z",
     "shell.execute_reply.started": "2025-02-23T11:25:46.316748Z"
    },
    "papermill": {
     "duration": null,
     "end_time": null,
     "exception": null,
     "start_time": null,
     "status": "pending"
    },
    "tags": []
   },
   "outputs": [],
   "source": [
    "df[0:29] # slice işlemi"
   ]
  },
  {
   "cell_type": "code",
   "execution_count": null,
   "id": "ec8cb9c6",
   "metadata": {
    "execution": {
     "iopub.execute_input": "2025-02-23T11:25:49.476606Z",
     "iopub.status.busy": "2025-02-23T11:25:49.476111Z",
     "iopub.status.idle": "2025-02-23T11:25:49.503984Z",
     "shell.execute_reply": "2025-02-23T11:25:49.501969Z",
     "shell.execute_reply.started": "2025-02-23T11:25:49.476567Z"
    },
    "papermill": {
     "duration": null,
     "end_time": null,
     "exception": null,
     "start_time": null,
     "status": "pending"
    },
    "tags": []
   },
   "outputs": [],
   "source": [
    "df.drop(0, axis=0).head() # kalıcı değil"
   ]
  },
  {
   "cell_type": "code",
   "execution_count": null,
   "id": "efb2507e",
   "metadata": {
    "execution": {
     "iopub.execute_input": "2025-02-23T11:25:51.333160Z",
     "iopub.status.busy": "2025-02-23T11:25:51.332703Z",
     "iopub.status.idle": "2025-02-23T11:25:51.346971Z",
     "shell.execute_reply": "2025-02-23T11:25:51.345866Z",
     "shell.execute_reply.started": "2025-02-23T11:25:51.333121Z"
    },
    "papermill": {
     "duration": null,
     "end_time": null,
     "exception": null,
     "start_time": null,
     "status": "pending"
    },
    "tags": []
   },
   "outputs": [],
   "source": [
    "delete_indexes = [1, 3, 5, 7]\n",
    "df.drop(delete_indexes, axis=0).head(10)\n",
    "df.head()"
   ]
  },
  {
   "cell_type": "markdown",
   "id": "da095d36",
   "metadata": {
    "papermill": {
     "duration": null,
     "end_time": null,
     "exception": null,
     "start_time": null,
     "status": "pending"
    },
    "tags": []
   },
   "source": [
    "Converting a Variable to Index"
   ]
  },
  {
   "cell_type": "code",
   "execution_count": null,
   "id": "2ac0db00",
   "metadata": {
    "execution": {
     "iopub.execute_input": "2025-02-23T11:25:54.191470Z",
     "iopub.status.busy": "2025-02-23T11:25:54.191075Z",
     "iopub.status.idle": "2025-02-23T11:25:54.198925Z",
     "shell.execute_reply": "2025-02-23T11:25:54.197678Z",
     "shell.execute_reply.started": "2025-02-23T11:25:54.191438Z"
    },
    "papermill": {
     "duration": null,
     "end_time": null,
     "exception": null,
     "start_time": null,
     "status": "pending"
    },
    "tags": []
   },
   "outputs": [],
   "source": [
    "df[\"AGE\"].head() \n",
    "df.AGE.head() \n",
    "# aynı"
   ]
  },
  {
   "cell_type": "code",
   "execution_count": null,
   "id": "95603a1c",
   "metadata": {
    "execution": {
     "iopub.execute_input": "2025-02-23T11:25:55.733300Z",
     "iopub.status.busy": "2025-02-23T11:25:55.732887Z",
     "iopub.status.idle": "2025-02-23T11:25:55.744198Z",
     "shell.execute_reply": "2025-02-23T11:25:55.742827Z",
     "shell.execute_reply.started": "2025-02-23T11:25:55.733248Z"
    },
    "papermill": {
     "duration": null,
     "end_time": null,
     "exception": null,
     "start_time": null,
     "status": "pending"
    },
    "tags": []
   },
   "outputs": [],
   "source": [
    "df.index = df[\"AGE\"]\n",
    "df.head()"
   ]
  },
  {
   "cell_type": "code",
   "execution_count": null,
   "id": "b344b1cf",
   "metadata": {
    "execution": {
     "iopub.execute_input": "2025-02-23T11:25:58.252085Z",
     "iopub.status.busy": "2025-02-23T11:25:58.251611Z",
     "iopub.status.idle": "2025-02-23T11:25:58.268526Z",
     "shell.execute_reply": "2025-02-23T11:25:58.267163Z",
     "shell.execute_reply.started": "2025-02-23T11:25:58.252053Z"
    },
    "papermill": {
     "duration": null,
     "end_time": null,
     "exception": null,
     "start_time": null,
     "status": "pending"
    },
    "tags": []
   },
   "outputs": [],
   "source": [
    "df.drop(\"AGE\", axis=1).head()"
   ]
  },
  {
   "cell_type": "code",
   "execution_count": null,
   "id": "52ba1b57",
   "metadata": {
    "execution": {
     "iopub.execute_input": "2025-02-23T11:26:00.580818Z",
     "iopub.status.busy": "2025-02-23T11:26:00.580457Z",
     "iopub.status.idle": "2025-02-23T11:26:00.593363Z",
     "shell.execute_reply": "2025-02-23T11:26:00.592030Z",
     "shell.execute_reply.started": "2025-02-23T11:26:00.580788Z"
    },
    "papermill": {
     "duration": null,
     "end_time": null,
     "exception": null,
     "start_time": null,
     "status": "pending"
    },
    "tags": []
   },
   "outputs": [],
   "source": [
    "df.loc[df[\"COUNTRY\"] == \"tur\"].head()"
   ]
  },
  {
   "cell_type": "code",
   "execution_count": null,
   "id": "c1e224ff",
   "metadata": {
    "execution": {
     "iopub.execute_input": "2025-02-23T11:26:03.332695Z",
     "iopub.status.busy": "2025-02-23T11:26:03.332337Z",
     "iopub.status.idle": "2025-02-23T11:26:03.345401Z",
     "shell.execute_reply": "2025-02-23T11:26:03.344090Z",
     "shell.execute_reply.started": "2025-02-23T11:26:03.332668Z"
    },
    "papermill": {
     "duration": null,
     "end_time": null,
     "exception": null,
     "start_time": null,
     "status": "pending"
    },
    "tags": []
   },
   "outputs": [],
   "source": [
    "df.loc[df[\"COUNTRY\"] == \"tur\", [\"AGE\", \"SOURCE\"]].head()"
   ]
  },
  {
   "cell_type": "code",
   "execution_count": null,
   "id": "a7d4b837",
   "metadata": {
    "execution": {
     "iopub.execute_input": "2025-02-23T11:26:08.879933Z",
     "iopub.status.busy": "2025-02-23T11:26:08.879551Z",
     "iopub.status.idle": "2025-02-23T11:26:08.890969Z",
     "shell.execute_reply": "2025-02-23T11:26:08.889569Z",
     "shell.execute_reply.started": "2025-02-23T11:26:08.879900Z"
    },
    "papermill": {
     "duration": null,
     "end_time": null,
     "exception": null,
     "start_time": null,
     "status": "pending"
    },
    "tags": []
   },
   "outputs": [],
   "source": [
    "df.iloc[0:3, 0:3]"
   ]
  },
  {
   "cell_type": "code",
   "execution_count": null,
   "id": "3755aa26",
   "metadata": {
    "execution": {
     "iopub.execute_input": "2025-02-23T11:26:12.981245Z",
     "iopub.status.busy": "2025-02-23T11:26:12.980927Z",
     "iopub.status.idle": "2025-02-23T11:26:12.991337Z",
     "shell.execute_reply": "2025-02-23T11:26:12.990045Z",
     "shell.execute_reply.started": "2025-02-23T11:26:12.981221Z"
    },
    "papermill": {
     "duration": null,
     "end_time": null,
     "exception": null,
     "start_time": null,
     "status": "pending"
    },
    "tags": []
   },
   "outputs": [],
   "source": [
    "df.iloc[[1, 3, 5], [0, 1]]"
   ]
  },
  {
   "cell_type": "code",
   "execution_count": null,
   "id": "d9a90422",
   "metadata": {
    "execution": {
     "iopub.execute_input": "2025-02-23T11:26:15.460701Z",
     "iopub.status.busy": "2025-02-23T11:26:15.460371Z",
     "iopub.status.idle": "2025-02-23T11:26:15.470476Z",
     "shell.execute_reply": "2025-02-23T11:26:15.468976Z",
     "shell.execute_reply.started": "2025-02-23T11:26:15.460675Z"
    },
    "papermill": {
     "duration": null,
     "end_time": null,
     "exception": null,
     "start_time": null,
     "status": "pending"
    },
    "tags": []
   },
   "outputs": [],
   "source": [
    "df.iloc[3:6, 1:3]"
   ]
  },
  {
   "cell_type": "markdown",
   "id": "a5fdc19a",
   "metadata": {
    "papermill": {
     "duration": null,
     "end_time": null,
     "exception": null,
     "start_time": null,
     "status": "pending"
    },
    "tags": []
   },
   "source": [
    "Koşullu Seçim (Conditional Selection)"
   ]
  },
  {
   "cell_type": "code",
   "execution_count": null,
   "id": "9724265e",
   "metadata": {
    "execution": {
     "iopub.execute_input": "2025-02-23T11:26:18.679770Z",
     "iopub.status.busy": "2025-02-23T11:26:18.679330Z",
     "iopub.status.idle": "2025-02-23T11:26:18.694038Z",
     "shell.execute_reply": "2025-02-23T11:26:18.692986Z",
     "shell.execute_reply.started": "2025-02-23T11:26:18.679738Z"
    },
    "papermill": {
     "duration": null,
     "end_time": null,
     "exception": null,
     "start_time": null,
     "status": "pending"
    },
    "tags": []
   },
   "outputs": [],
   "source": [
    "df.loc[(df[\"AGE\"] > 20) | (df[\"SEX\"] == \"male\") & (df[\"SOURCE\"] == \"android\"), [\"PRICE\", \"COUNTRY\"]].head() "
   ]
  },
  {
   "cell_type": "markdown",
   "id": "426c75d9",
   "metadata": {
    "papermill": {
     "duration": null,
     "end_time": null,
     "exception": null,
     "start_time": null,
     "status": "pending"
    },
    "tags": []
   },
   "source": [
    "Toplulaştırma & Gruplama (Aggregation & Grouping)"
   ]
  },
  {
   "cell_type": "code",
   "execution_count": null,
   "id": "bc059e6d",
   "metadata": {
    "execution": {
     "iopub.execute_input": "2025-02-23T11:26:58.541413Z",
     "iopub.status.busy": "2025-02-23T11:26:58.541043Z",
     "iopub.status.idle": "2025-02-23T11:26:58.569825Z",
     "shell.execute_reply": "2025-02-23T11:26:58.568540Z",
     "shell.execute_reply.started": "2025-02-23T11:26:58.541385Z"
    },
    "papermill": {
     "duration": null,
     "end_time": null,
     "exception": null,
     "start_time": null,
     "status": "pending"
    },
    "tags": []
   },
   "outputs": [],
   "source": [
    "df.groupby(\"SEX\").agg({\"AGE\" : \"mean\", \"PRICE\" : [\"mean\", \"sum\"]})"
   ]
  },
  {
   "cell_type": "markdown",
   "id": "4a93c2e6",
   "metadata": {
    "papermill": {
     "duration": null,
     "end_time": null,
     "exception": null,
     "start_time": null,
     "status": "pending"
    },
    "tags": []
   },
   "source": [
    "Pivot Table"
   ]
  },
  {
   "cell_type": "code",
   "execution_count": null,
   "id": "c1824db3",
   "metadata": {
    "execution": {
     "iopub.execute_input": "2025-02-23T11:27:28.385102Z",
     "iopub.status.busy": "2025-02-23T11:27:28.384594Z",
     "iopub.status.idle": "2025-02-23T11:27:28.434377Z",
     "shell.execute_reply": "2025-02-23T11:27:28.433307Z",
     "shell.execute_reply.started": "2025-02-23T11:27:28.385060Z"
    },
    "papermill": {
     "duration": null,
     "end_time": null,
     "exception": null,
     "start_time": null,
     "status": "pending"
    },
    "tags": []
   },
   "outputs": [],
   "source": [
    "df.pivot_table(values=\"PRICE\", index=\"COUNTRY\", columns=\"SOURCE\", aggfunc=\"sum\")"
   ]
  },
  {
   "cell_type": "markdown",
   "id": "2bf3c3b5",
   "metadata": {
    "papermill": {
     "duration": null,
     "end_time": null,
     "exception": null,
     "start_time": null,
     "status": "pending"
    },
    "tags": []
   },
   "source": [
    "Apply & Lambda"
   ]
  },
  {
   "cell_type": "code",
   "execution_count": null,
   "id": "c74ea794",
   "metadata": {
    "execution": {
     "iopub.execute_input": "2025-02-23T11:31:07.172628Z",
     "iopub.status.busy": "2025-02-23T11:31:07.172192Z",
     "iopub.status.idle": "2025-02-23T11:31:07.183901Z",
     "shell.execute_reply": "2025-02-23T11:31:07.182636Z",
     "shell.execute_reply.started": "2025-02-23T11:31:07.172594Z"
    },
    "papermill": {
     "duration": null,
     "end_time": null,
     "exception": null,
     "start_time": null,
     "status": "pending"
    },
    "tags": []
   },
   "outputs": [],
   "source": [
    "df = df.reset_index(drop=True)\n",
    "df.head()"
   ]
  },
  {
   "cell_type": "code",
   "execution_count": null,
   "id": "b42ead29",
   "metadata": {
    "execution": {
     "iopub.execute_input": "2025-02-23T11:31:42.062306Z",
     "iopub.status.busy": "2025-02-23T11:31:42.061799Z",
     "iopub.status.idle": "2025-02-23T11:31:42.078096Z",
     "shell.execute_reply": "2025-02-23T11:31:42.076119Z",
     "shell.execute_reply.started": "2025-02-23T11:31:42.062239Z"
    },
    "papermill": {
     "duration": null,
     "end_time": null,
     "exception": null,
     "start_time": null,
     "status": "pending"
    },
    "tags": []
   },
   "outputs": [],
   "source": [
    "df.loc[:, df.columns.str.contains(\"AGE\")].apply(lambda x: x*2).head()"
   ]
  },
  {
   "cell_type": "code",
   "execution_count": null,
   "id": "e2e7244f",
   "metadata": {
    "execution": {
     "iopub.execute_input": "2025-02-23T10:10:10.153618Z",
     "iopub.status.busy": "2025-02-23T10:10:10.153259Z",
     "iopub.status.idle": "2025-02-23T10:10:10.163849Z",
     "shell.execute_reply": "2025-02-23T10:10:10.162928Z",
     "shell.execute_reply.started": "2025-02-23T10:10:10.153581Z"
    },
    "papermill": {
     "duration": null,
     "end_time": null,
     "exception": null,
     "start_time": null,
     "status": "pending"
    },
    "tags": []
   },
   "outputs": [],
   "source": [
    "df.index = df[\"SEX\"]\n",
    "df.head()"
   ]
  },
  {
   "cell_type": "code",
   "execution_count": null,
   "id": "74a39b3c",
   "metadata": {
    "execution": {
     "iopub.execute_input": "2025-02-23T10:10:30.515105Z",
     "iopub.status.busy": "2025-02-23T10:10:30.514738Z",
     "iopub.status.idle": "2025-02-23T10:10:30.524939Z",
     "shell.execute_reply": "2025-02-23T10:10:30.524042Z",
     "shell.execute_reply.started": "2025-02-23T10:10:30.515076Z"
    },
    "papermill": {
     "duration": null,
     "end_time": null,
     "exception": null,
     "start_time": null,
     "status": "pending"
    },
    "tags": []
   },
   "outputs": [],
   "source": [
    "df.index = df[\"COUNTRY\"]\n",
    "df.head()"
   ]
  },
  {
   "cell_type": "code",
   "execution_count": null,
   "id": "83507409",
   "metadata": {
    "execution": {
     "iopub.execute_input": "2025-02-23T10:10:49.682581Z",
     "iopub.status.busy": "2025-02-23T10:10:49.682210Z",
     "iopub.status.idle": "2025-02-23T10:10:49.692829Z",
     "shell.execute_reply": "2025-02-23T10:10:49.691854Z",
     "shell.execute_reply.started": "2025-02-23T10:10:49.682546Z"
    },
    "papermill": {
     "duration": null,
     "end_time": null,
     "exception": null,
     "start_time": null,
     "status": "pending"
    },
    "tags": []
   },
   "outputs": [],
   "source": [
    "df.index = df[\"SOURCE\"]\n",
    "df.head()"
   ]
  },
  {
   "cell_type": "code",
   "execution_count": null,
   "id": "119334ef",
   "metadata": {
    "execution": {
     "iopub.execute_input": "2025-02-23T10:11:11.299520Z",
     "iopub.status.busy": "2025-02-23T10:11:11.299141Z",
     "iopub.status.idle": "2025-02-23T10:11:11.309120Z",
     "shell.execute_reply": "2025-02-23T10:11:11.308251Z",
     "shell.execute_reply.started": "2025-02-23T10:11:11.299490Z"
    },
    "papermill": {
     "duration": null,
     "end_time": null,
     "exception": null,
     "start_time": null,
     "status": "pending"
    },
    "tags": []
   },
   "outputs": [],
   "source": [
    "df.index = df[\"PRICE\"]\n",
    "df.head()"
   ]
  },
  {
   "cell_type": "code",
   "execution_count": null,
   "id": "1fd8dddf",
   "metadata": {
    "papermill": {
     "duration": null,
     "end_time": null,
     "exception": null,
     "start_time": null,
     "status": "pending"
    },
    "tags": []
   },
   "outputs": [],
   "source": []
  }
 ],
 "metadata": {
  "kaggle": {
   "accelerator": "none",
   "dataSources": [
    {
     "datasetId": 6719634,
     "sourceId": 10822420,
     "sourceType": "datasetVersion"
    }
   ],
   "dockerImageVersionId": 30918,
   "isGpuEnabled": false,
   "isInternetEnabled": true,
   "language": "python",
   "sourceType": "notebook"
  },
  "kernelspec": {
   "display_name": "Python 3",
   "language": "python",
   "name": "python3"
  },
  "language_info": {
   "codemirror_mode": {
    "name": "ipython",
    "version": 3
   },
   "file_extension": ".py",
   "mimetype": "text/x-python",
   "name": "python",
   "nbconvert_exporter": "python",
   "pygments_lexer": "ipython3",
   "version": "3.10.12"
  },
  "papermill": {
   "default_parameters": {},
   "duration": 4.916374,
   "end_time": "2025-02-25T11:23:49.380816",
   "environment_variables": {},
   "exception": true,
   "input_path": "__notebook__.ipynb",
   "output_path": "__notebook__.ipynb",
   "parameters": {},
   "start_time": "2025-02-25T11:23:44.464442",
   "version": "2.6.0"
  }
 },
 "nbformat": 4,
 "nbformat_minor": 5
}
