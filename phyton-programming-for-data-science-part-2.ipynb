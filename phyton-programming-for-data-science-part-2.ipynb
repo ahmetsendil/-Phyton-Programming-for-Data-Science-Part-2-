{
 "cells": [
  {
   "cell_type": "code",
   "execution_count": 1,
   "id": "1aba7637",
   "metadata": {
    "_cell_guid": "b1076dfc-b9ad-4769-8c92-a6c4dae69d19",
    "_uuid": "8f2839f25d086af736a60e9eeb907d3b93b6e0e5",
    "execution": {
     "iopub.execute_input": "2025-02-26T12:14:26.115816Z",
     "iopub.status.busy": "2025-02-26T12:14:26.115322Z",
     "iopub.status.idle": "2025-02-26T12:14:27.055253Z",
     "shell.execute_reply": "2025-02-26T12:14:27.054095Z"
    },
    "papermill": {
     "duration": 0.955414,
     "end_time": "2025-02-26T12:14:27.057119",
     "exception": false,
     "start_time": "2025-02-26T12:14:26.101705",
     "status": "completed"
    },
    "tags": []
   },
   "outputs": [
    {
     "name": "stdout",
     "output_type": "stream",
     "text": [
      "/kaggle/input/persona-data-set/persona.csv\n"
     ]
    }
   ],
   "source": [
    "# This Python 3 environment comes with many helpful analytics libraries installed\n",
    "# It is defined by the kaggle/python Docker image: https://github.com/kaggle/docker-python\n",
    "# For example, here's several helpful packages to load\n",
    "\n",
    "import numpy as np # linear algebra\n",
    "import pandas as pd # data processing, CSV file I/O (e.g. pd.read_csv)\n",
    "\n",
    "# Input data files are available in the read-only \"../input/\" directory\n",
    "# For example, running this (by clicking run or pressing Shift+Enter) will list all files under the input directory\n",
    "\n",
    "import os\n",
    "for dirname, _, filenames in os.walk('/kaggle/input'):\n",
    "    for filename in filenames:\n",
    "        print(os.path.join(dirname, filename))\n",
    "\n",
    "# You can write up to 20GB to the current directory (/kaggle/working/) that gets preserved as output when you create a version using \"Save & Run All\" \n",
    "# You can also write temporary files to /kaggle/temp/, but they won't be saved outside of the current session"
   ]
  },
  {
   "cell_type": "code",
   "execution_count": 2,
   "id": "f0a9c670",
   "metadata": {
    "execution": {
     "iopub.execute_input": "2025-02-26T12:14:27.081922Z",
     "iopub.status.busy": "2025-02-26T12:14:27.081437Z",
     "iopub.status.idle": "2025-02-26T12:14:27.086173Z",
     "shell.execute_reply": "2025-02-26T12:14:27.085231Z"
    },
    "papermill": {
     "duration": 0.018872,
     "end_time": "2025-02-26T12:14:27.087748",
     "exception": false,
     "start_time": "2025-02-26T12:14:27.068876",
     "status": "completed"
    },
    "tags": []
   },
   "outputs": [],
   "source": [
    "import numpy as np\n",
    "import pandas as pd\n",
    "import matplotlib as plt\n",
    "\n",
    "pd.set_option(\"display.max_rows\", None)\n",
    "pd.set_option(\"display.width\", 500)"
   ]
  },
  {
   "cell_type": "code",
   "execution_count": 3,
   "id": "b95c7fc1",
   "metadata": {
    "execution": {
     "iopub.execute_input": "2025-02-26T12:14:27.112512Z",
     "iopub.status.busy": "2025-02-26T12:14:27.112130Z",
     "iopub.status.idle": "2025-02-26T12:14:27.118956Z",
     "shell.execute_reply": "2025-02-26T12:14:27.117839Z"
    },
    "papermill": {
     "duration": 0.021061,
     "end_time": "2025-02-26T12:14:27.120443",
     "exception": false,
     "start_time": "2025-02-26T12:14:27.099382",
     "status": "completed"
    },
    "tags": []
   },
   "outputs": [
    {
     "data": {
      "text/plain": [
       "numpy.ndarray"
      ]
     },
     "execution_count": 3,
     "metadata": {},
     "output_type": "execute_result"
    }
   ],
   "source": [
    "np.array([1, 2, 3, 4, 5])\n",
    "type(np.array([1, 2, 3, 4, 5]))"
   ]
  },
  {
   "cell_type": "code",
   "execution_count": 4,
   "id": "b26d437d",
   "metadata": {
    "execution": {
     "iopub.execute_input": "2025-02-26T12:14:27.144746Z",
     "iopub.status.busy": "2025-02-26T12:14:27.144406Z",
     "iopub.status.idle": "2025-02-26T12:14:27.151803Z",
     "shell.execute_reply": "2025-02-26T12:14:27.150729Z"
    },
    "papermill": {
     "duration": 0.021296,
     "end_time": "2025-02-26T12:14:27.153403",
     "exception": false,
     "start_time": "2025-02-26T12:14:27.132107",
     "status": "completed"
    },
    "tags": []
   },
   "outputs": [
    {
     "data": {
      "text/plain": [
       "array([0, 0, 0, 0, 0, 0, 0, 0, 0, 0])"
      ]
     },
     "execution_count": 4,
     "metadata": {},
     "output_type": "execute_result"
    }
   ],
   "source": [
    "np.zeros(10, dtype=int)"
   ]
  },
  {
   "cell_type": "code",
   "execution_count": 5,
   "id": "534df734",
   "metadata": {
    "execution": {
     "iopub.execute_input": "2025-02-26T12:14:27.178108Z",
     "iopub.status.busy": "2025-02-26T12:14:27.177715Z",
     "iopub.status.idle": "2025-02-26T12:14:27.185025Z",
     "shell.execute_reply": "2025-02-26T12:14:27.184017Z"
    },
    "papermill": {
     "duration": 0.021547,
     "end_time": "2025-02-26T12:14:27.186648",
     "exception": false,
     "start_time": "2025-02-26T12:14:27.165101",
     "status": "completed"
    },
    "tags": []
   },
   "outputs": [
    {
     "data": {
      "text/plain": [
       "array([4, 4, 0, 8, 3, 6, 0, 3, 6, 8])"
      ]
     },
     "execution_count": 5,
     "metadata": {},
     "output_type": "execute_result"
    }
   ],
   "source": [
    "np.random.randint(0, 10, size=10)"
   ]
  },
  {
   "cell_type": "code",
   "execution_count": 6,
   "id": "56f37fbf",
   "metadata": {
    "execution": {
     "iopub.execute_input": "2025-02-26T12:14:27.210827Z",
     "iopub.status.busy": "2025-02-26T12:14:27.210491Z",
     "iopub.status.idle": "2025-02-26T12:14:27.217258Z",
     "shell.execute_reply": "2025-02-26T12:14:27.215859Z"
    },
    "papermill": {
     "duration": 0.020785,
     "end_time": "2025-02-26T12:14:27.219050",
     "exception": false,
     "start_time": "2025-02-26T12:14:27.198265",
     "status": "completed"
    },
    "tags": []
   },
   "outputs": [
    {
     "data": {
      "text/plain": [
       "array([[-0.54592985,  9.32133634,  8.70056517, 12.94211288],\n",
       "       [12.43527704,  7.75491207,  5.0775824 ,  6.92417285],\n",
       "       [ 8.10763283,  8.71382476,  5.39726341,  7.85347163]])"
      ]
     },
     "execution_count": 6,
     "metadata": {},
     "output_type": "execute_result"
    }
   ],
   "source": [
    "np.random.normal(10, 4, (3, 4))"
   ]
  },
  {
   "cell_type": "code",
   "execution_count": 7,
   "id": "e82adcca",
   "metadata": {
    "execution": {
     "iopub.execute_input": "2025-02-26T12:14:27.243658Z",
     "iopub.status.busy": "2025-02-26T12:14:27.243304Z",
     "iopub.status.idle": "2025-02-26T12:14:27.249316Z",
     "shell.execute_reply": "2025-02-26T12:14:27.248467Z"
    },
    "papermill": {
     "duration": 0.020007,
     "end_time": "2025-02-26T12:14:27.250847",
     "exception": false,
     "start_time": "2025-02-26T12:14:27.230840",
     "status": "completed"
    },
    "tags": []
   },
   "outputs": [
    {
     "data": {
      "text/plain": [
       "array([[54.74410551, 63.85054983, 61.03941433],\n",
       "       [60.10676459, 57.92308571, 59.48853157],\n",
       "       [56.49299134, 65.5608656 , 60.91372675]])"
      ]
     },
     "execution_count": 7,
     "metadata": {},
     "output_type": "execute_result"
    }
   ],
   "source": [
    "np.random.normal(60, 3, (3, 3))"
   ]
  },
  {
   "cell_type": "code",
   "execution_count": 8,
   "id": "ed4dcf88",
   "metadata": {
    "execution": {
     "iopub.execute_input": "2025-02-26T12:14:27.276764Z",
     "iopub.status.busy": "2025-02-26T12:14:27.276402Z",
     "iopub.status.idle": "2025-02-26T12:14:27.282691Z",
     "shell.execute_reply": "2025-02-26T12:14:27.281774Z"
    },
    "papermill": {
     "duration": 0.02062,
     "end_time": "2025-02-26T12:14:27.284263",
     "exception": false,
     "start_time": "2025-02-26T12:14:27.263643",
     "status": "completed"
    },
    "tags": []
   },
   "outputs": [
    {
     "data": {
      "text/plain": [
       "array([[56.95524544, 69.35187584, 68.43019977],\n",
       "       [65.34259178, 65.38175245, 62.51104097],\n",
       "       [62.3304003 , 67.57730175, 69.85993604]])"
      ]
     },
     "execution_count": 8,
     "metadata": {},
     "output_type": "execute_result"
    }
   ],
   "source": [
    "np.random.normal(65, 5, (3, 3))"
   ]
  },
  {
   "cell_type": "code",
   "execution_count": 9,
   "id": "8986717e",
   "metadata": {
    "execution": {
     "iopub.execute_input": "2025-02-26T12:14:27.309222Z",
     "iopub.status.busy": "2025-02-26T12:14:27.308856Z",
     "iopub.status.idle": "2025-02-26T12:14:27.312993Z",
     "shell.execute_reply": "2025-02-26T12:14:27.312116Z"
    },
    "papermill": {
     "duration": 0.018435,
     "end_time": "2025-02-26T12:14:27.314648",
     "exception": false,
     "start_time": "2025-02-26T12:14:27.296213",
     "status": "completed"
    },
    "tags": []
   },
   "outputs": [],
   "source": [
    "a = np.random.randint(10, size=10)"
   ]
  },
  {
   "cell_type": "code",
   "execution_count": 10,
   "id": "f3275f5a",
   "metadata": {
    "execution": {
     "iopub.execute_input": "2025-02-26T12:14:27.339697Z",
     "iopub.status.busy": "2025-02-26T12:14:27.339308Z",
     "iopub.status.idle": "2025-02-26T12:14:27.345101Z",
     "shell.execute_reply": "2025-02-26T12:14:27.344064Z"
    },
    "papermill": {
     "duration": 0.020221,
     "end_time": "2025-02-26T12:14:27.346771",
     "exception": false,
     "start_time": "2025-02-26T12:14:27.326550",
     "status": "completed"
    },
    "tags": []
   },
   "outputs": [
    {
     "data": {
      "text/plain": [
       "2"
      ]
     },
     "execution_count": 10,
     "metadata": {},
     "output_type": "execute_result"
    }
   ],
   "source": [
    "a[0]"
   ]
  },
  {
   "cell_type": "code",
   "execution_count": 11,
   "id": "b33dee23",
   "metadata": {
    "execution": {
     "iopub.execute_input": "2025-02-26T12:14:27.371686Z",
     "iopub.status.busy": "2025-02-26T12:14:27.371294Z",
     "iopub.status.idle": "2025-02-26T12:14:27.377066Z",
     "shell.execute_reply": "2025-02-26T12:14:27.376093Z"
    },
    "papermill": {
     "duration": 0.019839,
     "end_time": "2025-02-26T12:14:27.378583",
     "exception": false,
     "start_time": "2025-02-26T12:14:27.358744",
     "status": "completed"
    },
    "tags": []
   },
   "outputs": [
    {
     "data": {
      "text/plain": [
       "array([2, 6, 4, 7, 4])"
      ]
     },
     "execution_count": 11,
     "metadata": {},
     "output_type": "execute_result"
    }
   ],
   "source": [
    "a[0:5]"
   ]
  },
  {
   "cell_type": "code",
   "execution_count": 12,
   "id": "e5857874",
   "metadata": {
    "execution": {
     "iopub.execute_input": "2025-02-26T12:14:27.404272Z",
     "iopub.status.busy": "2025-02-26T12:14:27.403863Z",
     "iopub.status.idle": "2025-02-26T12:14:27.408277Z",
     "shell.execute_reply": "2025-02-26T12:14:27.407333Z"
    },
    "papermill": {
     "duration": 0.019113,
     "end_time": "2025-02-26T12:14:27.409804",
     "exception": false,
     "start_time": "2025-02-26T12:14:27.390691",
     "status": "completed"
    },
    "tags": []
   },
   "outputs": [],
   "source": [
    "m = np.random.randint(10, size=(3, 5))"
   ]
  },
  {
   "cell_type": "code",
   "execution_count": 13,
   "id": "08c5f526",
   "metadata": {
    "execution": {
     "iopub.execute_input": "2025-02-26T12:14:27.437091Z",
     "iopub.status.busy": "2025-02-26T12:14:27.436670Z",
     "iopub.status.idle": "2025-02-26T12:14:27.442303Z",
     "shell.execute_reply": "2025-02-26T12:14:27.441288Z"
    },
    "papermill": {
     "duration": 0.02026,
     "end_time": "2025-02-26T12:14:27.443904",
     "exception": false,
     "start_time": "2025-02-26T12:14:27.423644",
     "status": "completed"
    },
    "tags": []
   },
   "outputs": [
    {
     "data": {
      "text/plain": [
       "5"
      ]
     },
     "execution_count": 13,
     "metadata": {},
     "output_type": "execute_result"
    }
   ],
   "source": [
    "m[1, 1]"
   ]
  },
  {
   "cell_type": "code",
   "execution_count": 14,
   "id": "bc90003e",
   "metadata": {
    "execution": {
     "iopub.execute_input": "2025-02-26T12:14:27.469285Z",
     "iopub.status.busy": "2025-02-26T12:14:27.468896Z",
     "iopub.status.idle": "2025-02-26T12:14:27.474397Z",
     "shell.execute_reply": "2025-02-26T12:14:27.473602Z"
    },
    "papermill": {
     "duration": 0.01978,
     "end_time": "2025-02-26T12:14:27.475905",
     "exception": false,
     "start_time": "2025-02-26T12:14:27.456125",
     "status": "completed"
    },
    "tags": []
   },
   "outputs": [
    {
     "data": {
      "text/plain": [
       "4"
      ]
     },
     "execution_count": 14,
     "metadata": {},
     "output_type": "execute_result"
    }
   ],
   "source": [
    "m[2, 2]"
   ]
  },
  {
   "cell_type": "code",
   "execution_count": 15,
   "id": "b3cc5a42",
   "metadata": {
    "execution": {
     "iopub.execute_input": "2025-02-26T12:14:27.501607Z",
     "iopub.status.busy": "2025-02-26T12:14:27.501257Z",
     "iopub.status.idle": "2025-02-26T12:14:27.505562Z",
     "shell.execute_reply": "2025-02-26T12:14:27.504504Z"
    },
    "papermill": {
     "duration": 0.019085,
     "end_time": "2025-02-26T12:14:27.507312",
     "exception": false,
     "start_time": "2025-02-26T12:14:27.488227",
     "status": "completed"
    },
    "tags": []
   },
   "outputs": [],
   "source": [
    "m[2, 4] = 3.6 "
   ]
  },
  {
   "cell_type": "code",
   "execution_count": 16,
   "id": "51a47592",
   "metadata": {
    "execution": {
     "iopub.execute_input": "2025-02-26T12:14:27.533369Z",
     "iopub.status.busy": "2025-02-26T12:14:27.533023Z",
     "iopub.status.idle": "2025-02-26T12:14:27.538455Z",
     "shell.execute_reply": "2025-02-26T12:14:27.537684Z"
    },
    "papermill": {
     "duration": 0.019833,
     "end_time": "2025-02-26T12:14:27.539917",
     "exception": false,
     "start_time": "2025-02-26T12:14:27.520084",
     "status": "completed"
    },
    "tags": []
   },
   "outputs": [
    {
     "data": {
      "text/plain": [
       "array([4, 2, 9])"
      ]
     },
     "execution_count": 16,
     "metadata": {},
     "output_type": "execute_result"
    }
   ],
   "source": [
    "m[:, 0] # tüm satırları ve sıfırıncı sütunu seç"
   ]
  },
  {
   "cell_type": "code",
   "execution_count": 17,
   "id": "6a52cf71",
   "metadata": {
    "execution": {
     "iopub.execute_input": "2025-02-26T12:14:27.565121Z",
     "iopub.status.busy": "2025-02-26T12:14:27.564739Z",
     "iopub.status.idle": "2025-02-26T12:14:27.570945Z",
     "shell.execute_reply": "2025-02-26T12:14:27.569650Z"
    },
    "papermill": {
     "duration": 0.020565,
     "end_time": "2025-02-26T12:14:27.572536",
     "exception": false,
     "start_time": "2025-02-26T12:14:27.551971",
     "status": "completed"
    },
    "tags": []
   },
   "outputs": [
    {
     "data": {
      "text/plain": [
       "array([2, 5, 8, 9, 6])"
      ]
     },
     "execution_count": 17,
     "metadata": {},
     "output_type": "execute_result"
    }
   ],
   "source": [
    "m[1, :] # birinci satır ve tüm sütunları seç"
   ]
  },
  {
   "cell_type": "code",
   "execution_count": 18,
   "id": "f35fe7e5",
   "metadata": {
    "execution": {
     "iopub.execute_input": "2025-02-26T12:14:27.598392Z",
     "iopub.status.busy": "2025-02-26T12:14:27.598063Z",
     "iopub.status.idle": "2025-02-26T12:14:27.603707Z",
     "shell.execute_reply": "2025-02-26T12:14:27.602818Z"
    },
    "papermill": {
     "duration": 0.020446,
     "end_time": "2025-02-26T12:14:27.605276",
     "exception": false,
     "start_time": "2025-02-26T12:14:27.584830",
     "status": "completed"
    },
    "tags": []
   },
   "outputs": [
    {
     "data": {
      "text/plain": [
       "array([2, 5, 8, 9, 6])"
      ]
     },
     "execution_count": 18,
     "metadata": {},
     "output_type": "execute_result"
    }
   ],
   "source": [
    "m[1, :] # birinci satır ve tüm sütunları seç"
   ]
  },
  {
   "cell_type": "code",
   "execution_count": 19,
   "id": "ad91413c",
   "metadata": {
    "execution": {
     "iopub.execute_input": "2025-02-26T12:14:27.631584Z",
     "iopub.status.busy": "2025-02-26T12:14:27.631200Z",
     "iopub.status.idle": "2025-02-26T12:14:27.637037Z",
     "shell.execute_reply": "2025-02-26T12:14:27.636021Z"
    },
    "papermill": {
     "duration": 0.020695,
     "end_time": "2025-02-26T12:14:27.638590",
     "exception": false,
     "start_time": "2025-02-26T12:14:27.617895",
     "status": "completed"
    },
    "tags": []
   },
   "outputs": [
    {
     "data": {
      "text/plain": [
       "array([[4, 3, 7],\n",
       "       [2, 5, 8]])"
      ]
     },
     "execution_count": 19,
     "metadata": {},
     "output_type": "execute_result"
    }
   ],
   "source": [
    "m[0:2, 0:3] # satırlarda 0'dan 2'ye kadar, sütunlarda 0'dan 3'e kadar git"
   ]
  },
  {
   "cell_type": "markdown",
   "id": "a1d3cf3e",
   "metadata": {
    "papermill": {
     "duration": 0.01215,
     "end_time": "2025-02-26T12:14:27.663430",
     "exception": false,
     "start_time": "2025-02-26T12:14:27.651280",
     "status": "completed"
    },
    "tags": []
   },
   "source": [
    "Fancy Index"
   ]
  },
  {
   "cell_type": "code",
   "execution_count": 20,
   "id": "a799eb94",
   "metadata": {
    "execution": {
     "iopub.execute_input": "2025-02-26T12:14:27.689746Z",
     "iopub.status.busy": "2025-02-26T12:14:27.689414Z",
     "iopub.status.idle": "2025-02-26T12:14:27.693384Z",
     "shell.execute_reply": "2025-02-26T12:14:27.692550Z"
    },
    "papermill": {
     "duration": 0.018947,
     "end_time": "2025-02-26T12:14:27.694903",
     "exception": false,
     "start_time": "2025-02-26T12:14:27.675956",
     "status": "completed"
    },
    "tags": []
   },
   "outputs": [],
   "source": [
    "v = np.arange(0, 30, 3) # sıfırdan otuza kadar 3'er 3'er artan bir array"
   ]
  },
  {
   "cell_type": "code",
   "execution_count": 21,
   "id": "a383128a",
   "metadata": {
    "execution": {
     "iopub.execute_input": "2025-02-26T12:14:27.721582Z",
     "iopub.status.busy": "2025-02-26T12:14:27.721155Z",
     "iopub.status.idle": "2025-02-26T12:14:27.727179Z",
     "shell.execute_reply": "2025-02-26T12:14:27.726161Z"
    },
    "papermill": {
     "duration": 0.020766,
     "end_time": "2025-02-26T12:14:27.728610",
     "exception": false,
     "start_time": "2025-02-26T12:14:27.707844",
     "status": "completed"
    },
    "tags": []
   },
   "outputs": [
    {
     "data": {
      "text/plain": [
       "3"
      ]
     },
     "execution_count": 21,
     "metadata": {},
     "output_type": "execute_result"
    }
   ],
   "source": [
    "v[1]"
   ]
  },
  {
   "cell_type": "code",
   "execution_count": 22,
   "id": "502e4c44",
   "metadata": {
    "execution": {
     "iopub.execute_input": "2025-02-26T12:14:27.755209Z",
     "iopub.status.busy": "2025-02-26T12:14:27.754842Z",
     "iopub.status.idle": "2025-02-26T12:14:27.760826Z",
     "shell.execute_reply": "2025-02-26T12:14:27.759742Z"
    },
    "papermill": {
     "duration": 0.021316,
     "end_time": "2025-02-26T12:14:27.762559",
     "exception": false,
     "start_time": "2025-02-26T12:14:27.741243",
     "status": "completed"
    },
    "tags": []
   },
   "outputs": [
    {
     "data": {
      "text/plain": [
       "array([ 6,  9, 12])"
      ]
     },
     "execution_count": 22,
     "metadata": {},
     "output_type": "execute_result"
    }
   ],
   "source": [
    "catch = [2, 3, 4]\n",
    "v[catch]"
   ]
  },
  {
   "cell_type": "markdown",
   "id": "883817c2",
   "metadata": {
    "papermill": {
     "duration": 0.012574,
     "end_time": "2025-02-26T12:14:27.789580",
     "exception": false,
     "start_time": "2025-02-26T12:14:27.777006",
     "status": "completed"
    },
    "tags": []
   },
   "source": [
    "NumPy'da Koşullu İşlemler (Conditions on NumPy)"
   ]
  },
  {
   "cell_type": "code",
   "execution_count": 23,
   "id": "de741785",
   "metadata": {
    "execution": {
     "iopub.execute_input": "2025-02-26T12:14:27.816801Z",
     "iopub.status.busy": "2025-02-26T12:14:27.816466Z",
     "iopub.status.idle": "2025-02-26T12:14:27.820848Z",
     "shell.execute_reply": "2025-02-26T12:14:27.819739Z"
    },
    "papermill": {
     "duration": 0.01996,
     "end_time": "2025-02-26T12:14:27.822590",
     "exception": false,
     "start_time": "2025-02-26T12:14:27.802630",
     "status": "completed"
    },
    "tags": []
   },
   "outputs": [],
   "source": [
    "v = np.array([1, 2, 3, 4, 5])"
   ]
  },
  {
   "cell_type": "code",
   "execution_count": 24,
   "id": "c2132f10",
   "metadata": {
    "execution": {
     "iopub.execute_input": "2025-02-26T12:14:27.849428Z",
     "iopub.status.busy": "2025-02-26T12:14:27.849092Z",
     "iopub.status.idle": "2025-02-26T12:14:27.856966Z",
     "shell.execute_reply": "2025-02-26T12:14:27.856031Z"
    },
    "papermill": {
     "duration": 0.023113,
     "end_time": "2025-02-26T12:14:27.858595",
     "exception": false,
     "start_time": "2025-02-26T12:14:27.835482",
     "status": "completed"
    },
    "tags": []
   },
   "outputs": [
    {
     "data": {
      "text/plain": [
       "array([1, 2])"
      ]
     },
     "execution_count": 24,
     "metadata": {},
     "output_type": "execute_result"
    }
   ],
   "source": [
    "v[v < 3] "
   ]
  },
  {
   "cell_type": "code",
   "execution_count": 25,
   "id": "6f9f3d20",
   "metadata": {
    "execution": {
     "iopub.execute_input": "2025-02-26T12:14:27.886527Z",
     "iopub.status.busy": "2025-02-26T12:14:27.886192Z",
     "iopub.status.idle": "2025-02-26T12:14:27.891956Z",
     "shell.execute_reply": "2025-02-26T12:14:27.891034Z"
    },
    "papermill": {
     "duration": 0.021997,
     "end_time": "2025-02-26T12:14:27.893503",
     "exception": false,
     "start_time": "2025-02-26T12:14:27.871506",
     "status": "completed"
    },
    "tags": []
   },
   "outputs": [
    {
     "data": {
      "text/plain": [
       "array([1, 2, 4, 5])"
      ]
     },
     "execution_count": 25,
     "metadata": {},
     "output_type": "execute_result"
    }
   ],
   "source": [
    "v[v != 3]"
   ]
  },
  {
   "cell_type": "markdown",
   "id": "1f8a3a8c",
   "metadata": {
    "papermill": {
     "duration": 0.012445,
     "end_time": "2025-02-26T12:14:27.918885",
     "exception": false,
     "start_time": "2025-02-26T12:14:27.906440",
     "status": "completed"
    },
    "tags": []
   },
   "source": [
    "Matematiksel İşlemler (Mathematical Operations)"
   ]
  },
  {
   "cell_type": "code",
   "execution_count": 26,
   "id": "02afa5dc",
   "metadata": {
    "execution": {
     "iopub.execute_input": "2025-02-26T12:14:27.945369Z",
     "iopub.status.busy": "2025-02-26T12:14:27.945037Z",
     "iopub.status.idle": "2025-02-26T12:14:27.949102Z",
     "shell.execute_reply": "2025-02-26T12:14:27.948056Z"
    },
    "papermill": {
     "duration": 0.019217,
     "end_time": "2025-02-26T12:14:27.950723",
     "exception": false,
     "start_time": "2025-02-26T12:14:27.931506",
     "status": "completed"
    },
    "tags": []
   },
   "outputs": [],
   "source": [
    "v = np.array([1, 2, 3, 4, 5])"
   ]
  },
  {
   "cell_type": "code",
   "execution_count": 27,
   "id": "578b2dfb",
   "metadata": {
    "execution": {
     "iopub.execute_input": "2025-02-26T12:14:27.977848Z",
     "iopub.status.busy": "2025-02-26T12:14:27.977450Z",
     "iopub.status.idle": "2025-02-26T12:14:27.983677Z",
     "shell.execute_reply": "2025-02-26T12:14:27.982616Z"
    },
    "papermill": {
     "duration": 0.021894,
     "end_time": "2025-02-26T12:14:27.985394",
     "exception": false,
     "start_time": "2025-02-26T12:14:27.963500",
     "status": "completed"
    },
    "tags": []
   },
   "outputs": [
    {
     "data": {
      "text/plain": [
       "array([0.5, 1. , 1.5, 2. , 2.5])"
      ]
     },
     "execution_count": 27,
     "metadata": {},
     "output_type": "execute_result"
    }
   ],
   "source": [
    "v * 5 / 10"
   ]
  },
  {
   "cell_type": "markdown",
   "id": "e9cc8855",
   "metadata": {
    "papermill": {
     "duration": 0.012969,
     "end_time": "2025-02-26T12:14:28.011330",
     "exception": false,
     "start_time": "2025-02-26T12:14:27.998361",
     "status": "completed"
    },
    "tags": []
   },
   "source": [
    "Solving a System of Two Linear Equations with NumPy"
   ]
  },
  {
   "cell_type": "code",
   "execution_count": 28,
   "id": "aadb6c3c",
   "metadata": {
    "execution": {
     "iopub.execute_input": "2025-02-26T12:14:28.038739Z",
     "iopub.status.busy": "2025-02-26T12:14:28.038398Z",
     "iopub.status.idle": "2025-02-26T12:14:28.060865Z",
     "shell.execute_reply": "2025-02-26T12:14:28.059622Z"
    },
    "papermill": {
     "duration": 0.038367,
     "end_time": "2025-02-26T12:14:28.062788",
     "exception": false,
     "start_time": "2025-02-26T12:14:28.024421",
     "status": "completed"
    },
    "tags": []
   },
   "outputs": [
    {
     "data": {
      "text/plain": [
       "array([1.85714286, 2.71428571])"
      ]
     },
     "execution_count": 28,
     "metadata": {},
     "output_type": "execute_result"
    }
   ],
   "source": [
    "# 5*x0 + x1 = 12\n",
    "# x0 + 3*x1 = 10\n",
    "\n",
    "a = np.array([[5, 1], [1, 3]]) # birinci elemanlar birinci değişkenin katsayılarıdır.\n",
    "                               # ikinciler ikinci değişkenin katsayıları\n",
    "b = np.array([12, 10]) # sonuçlar ise bu arrayde\n",
    "np.linalg.solve(a, b)"
   ]
  },
  {
   "cell_type": "markdown",
   "id": "c6338edf",
   "metadata": {
    "papermill": {
     "duration": 0.012509,
     "end_time": "2025-02-26T12:14:28.088415",
     "exception": false,
     "start_time": "2025-02-26T12:14:28.075906",
     "status": "completed"
    },
    "tags": []
   },
   "source": [
    "Data Analysis with Python: Pandas"
   ]
  },
  {
   "cell_type": "code",
   "execution_count": 29,
   "id": "07e928f3",
   "metadata": {
    "execution": {
     "iopub.execute_input": "2025-02-26T12:14:28.115777Z",
     "iopub.status.busy": "2025-02-26T12:14:28.115425Z",
     "iopub.status.idle": "2025-02-26T12:14:28.123921Z",
     "shell.execute_reply": "2025-02-26T12:14:28.123041Z"
    },
    "papermill": {
     "duration": 0.024229,
     "end_time": "2025-02-26T12:14:28.125490",
     "exception": false,
     "start_time": "2025-02-26T12:14:28.101261",
     "status": "completed"
    },
    "tags": []
   },
   "outputs": [
    {
     "data": {
      "text/plain": [
       "pandas.core.series.Series"
      ]
     },
     "execution_count": 29,
     "metadata": {},
     "output_type": "execute_result"
    }
   ],
   "source": [
    "s = pd.Series([10, 77, 12, 4, 5])\n",
    "type(s)"
   ]
  },
  {
   "cell_type": "code",
   "execution_count": 30,
   "id": "53209567",
   "metadata": {
    "execution": {
     "iopub.execute_input": "2025-02-26T12:14:28.153421Z",
     "iopub.status.busy": "2025-02-26T12:14:28.153088Z",
     "iopub.status.idle": "2025-02-26T12:14:28.197899Z",
     "shell.execute_reply": "2025-02-26T12:14:28.196956Z"
    },
    "papermill": {
     "duration": 0.060747,
     "end_time": "2025-02-26T12:14:28.199619",
     "exception": false,
     "start_time": "2025-02-26T12:14:28.138872",
     "status": "completed"
    },
    "tags": []
   },
   "outputs": [
    {
     "data": {
      "text/html": [
       "<div>\n",
       "<style scoped>\n",
       "    .dataframe tbody tr th:only-of-type {\n",
       "        vertical-align: middle;\n",
       "    }\n",
       "\n",
       "    .dataframe tbody tr th {\n",
       "        vertical-align: top;\n",
       "    }\n",
       "\n",
       "    .dataframe thead th {\n",
       "        text-align: right;\n",
       "    }\n",
       "</style>\n",
       "<table border=\"1\" class=\"dataframe\">\n",
       "  <thead>\n",
       "    <tr style=\"text-align: right;\">\n",
       "      <th></th>\n",
       "      <th>PRICE</th>\n",
       "      <th>SOURCE</th>\n",
       "      <th>SEX</th>\n",
       "      <th>COUNTRY</th>\n",
       "      <th>AGE</th>\n",
       "    </tr>\n",
       "  </thead>\n",
       "  <tbody>\n",
       "    <tr>\n",
       "      <th>0</th>\n",
       "      <td>39</td>\n",
       "      <td>android</td>\n",
       "      <td>male</td>\n",
       "      <td>bra</td>\n",
       "      <td>17</td>\n",
       "    </tr>\n",
       "    <tr>\n",
       "      <th>1</th>\n",
       "      <td>39</td>\n",
       "      <td>android</td>\n",
       "      <td>male</td>\n",
       "      <td>bra</td>\n",
       "      <td>17</td>\n",
       "    </tr>\n",
       "    <tr>\n",
       "      <th>2</th>\n",
       "      <td>49</td>\n",
       "      <td>android</td>\n",
       "      <td>male</td>\n",
       "      <td>bra</td>\n",
       "      <td>17</td>\n",
       "    </tr>\n",
       "    <tr>\n",
       "      <th>3</th>\n",
       "      <td>29</td>\n",
       "      <td>android</td>\n",
       "      <td>male</td>\n",
       "      <td>tur</td>\n",
       "      <td>17</td>\n",
       "    </tr>\n",
       "    <tr>\n",
       "      <th>4</th>\n",
       "      <td>49</td>\n",
       "      <td>android</td>\n",
       "      <td>male</td>\n",
       "      <td>tur</td>\n",
       "      <td>17</td>\n",
       "    </tr>\n",
       "  </tbody>\n",
       "</table>\n",
       "</div>"
      ],
      "text/plain": [
       "   PRICE   SOURCE   SEX COUNTRY  AGE\n",
       "0     39  android  male     bra   17\n",
       "1     39  android  male     bra   17\n",
       "2     49  android  male     bra   17\n",
       "3     29  android  male     tur   17\n",
       "4     49  android  male     tur   17"
      ]
     },
     "execution_count": 30,
     "metadata": {},
     "output_type": "execute_result"
    }
   ],
   "source": [
    "df = pd.read_csv(\"/kaggle/input/persona-data-set/persona.csv\")\n",
    "df.head()"
   ]
  },
  {
   "cell_type": "code",
   "execution_count": 31,
   "id": "66750de5",
   "metadata": {
    "execution": {
     "iopub.execute_input": "2025-02-26T12:14:28.282584Z",
     "iopub.status.busy": "2025-02-26T12:14:28.282244Z",
     "iopub.status.idle": "2025-02-26T12:14:28.287796Z",
     "shell.execute_reply": "2025-02-26T12:14:28.286898Z"
    },
    "papermill": {
     "duration": 0.022081,
     "end_time": "2025-02-26T12:14:28.289639",
     "exception": false,
     "start_time": "2025-02-26T12:14:28.267558",
     "status": "completed"
    },
    "tags": []
   },
   "outputs": [
    {
     "data": {
      "text/plain": [
       "pandas.core.frame.DataFrame"
      ]
     },
     "execution_count": 31,
     "metadata": {},
     "output_type": "execute_result"
    }
   ],
   "source": [
    "type(df)"
   ]
  },
  {
   "cell_type": "code",
   "execution_count": 32,
   "id": "a7e06831",
   "metadata": {
    "execution": {
     "iopub.execute_input": "2025-02-26T12:14:28.318018Z",
     "iopub.status.busy": "2025-02-26T12:14:28.317632Z",
     "iopub.status.idle": "2025-02-26T12:14:28.323272Z",
     "shell.execute_reply": "2025-02-26T12:14:28.322226Z"
    },
    "papermill": {
     "duration": 0.02168,
     "end_time": "2025-02-26T12:14:28.324914",
     "exception": false,
     "start_time": "2025-02-26T12:14:28.303234",
     "status": "completed"
    },
    "tags": []
   },
   "outputs": [
    {
     "data": {
      "text/plain": [
       "pandas.core.series.Series"
      ]
     },
     "execution_count": 32,
     "metadata": {},
     "output_type": "execute_result"
    }
   ],
   "source": [
    "type(df[\"SEX\"])"
   ]
  },
  {
   "cell_type": "code",
   "execution_count": 33,
   "id": "ba0d4a86",
   "metadata": {
    "execution": {
     "iopub.execute_input": "2025-02-26T12:14:28.353430Z",
     "iopub.status.busy": "2025-02-26T12:14:28.353100Z",
     "iopub.status.idle": "2025-02-26T12:14:28.358770Z",
     "shell.execute_reply": "2025-02-26T12:14:28.357830Z"
    },
    "papermill": {
     "duration": 0.021914,
     "end_time": "2025-02-26T12:14:28.360456",
     "exception": false,
     "start_time": "2025-02-26T12:14:28.338542",
     "status": "completed"
    },
    "tags": []
   },
   "outputs": [
    {
     "data": {
      "text/plain": [
       "pandas.core.series.Series"
      ]
     },
     "execution_count": 33,
     "metadata": {},
     "output_type": "execute_result"
    }
   ],
   "source": [
    "type(df[\"COUNTRY\"])"
   ]
  },
  {
   "cell_type": "code",
   "execution_count": 34,
   "id": "e19ed063",
   "metadata": {
    "execution": {
     "iopub.execute_input": "2025-02-26T12:14:28.389534Z",
     "iopub.status.busy": "2025-02-26T12:14:28.389196Z",
     "iopub.status.idle": "2025-02-26T12:14:28.395083Z",
     "shell.execute_reply": "2025-02-26T12:14:28.394039Z"
    },
    "papermill": {
     "duration": 0.022452,
     "end_time": "2025-02-26T12:14:28.396552",
     "exception": false,
     "start_time": "2025-02-26T12:14:28.374100",
     "status": "completed"
    },
    "tags": []
   },
   "outputs": [
    {
     "data": {
      "text/plain": [
       "pandas.core.series.Series"
      ]
     },
     "execution_count": 34,
     "metadata": {},
     "output_type": "execute_result"
    }
   ],
   "source": [
    "type(df[\"AGE\"])"
   ]
  },
  {
   "cell_type": "code",
   "execution_count": 35,
   "id": "406718c9",
   "metadata": {
    "execution": {
     "iopub.execute_input": "2025-02-26T12:14:28.426232Z",
     "iopub.status.busy": "2025-02-26T12:14:28.425830Z",
     "iopub.status.idle": "2025-02-26T12:14:28.431452Z",
     "shell.execute_reply": "2025-02-26T12:14:28.430428Z"
    },
    "papermill": {
     "duration": 0.022598,
     "end_time": "2025-02-26T12:14:28.433168",
     "exception": false,
     "start_time": "2025-02-26T12:14:28.410570",
     "status": "completed"
    },
    "tags": []
   },
   "outputs": [
    {
     "data": {
      "text/plain": [
       "pandas.core.series.Series"
      ]
     },
     "execution_count": 35,
     "metadata": {},
     "output_type": "execute_result"
    }
   ],
   "source": [
    "type(df[\"PRICE\"])"
   ]
  },
  {
   "cell_type": "code",
   "execution_count": 36,
   "id": "9d340588",
   "metadata": {
    "execution": {
     "iopub.execute_input": "2025-02-26T12:14:28.462756Z",
     "iopub.status.busy": "2025-02-26T12:14:28.462381Z",
     "iopub.status.idle": "2025-02-26T12:14:28.468652Z",
     "shell.execute_reply": "2025-02-26T12:14:28.467570Z"
    },
    "papermill": {
     "duration": 0.023341,
     "end_time": "2025-02-26T12:14:28.470493",
     "exception": false,
     "start_time": "2025-02-26T12:14:28.447152",
     "status": "completed"
    },
    "tags": []
   },
   "outputs": [
    {
     "data": {
      "text/plain": [
       "pandas.core.series.Series"
      ]
     },
     "execution_count": 36,
     "metadata": {},
     "output_type": "execute_result"
    }
   ],
   "source": [
    "type(df[\"SOURCE\"])"
   ]
  },
  {
   "cell_type": "markdown",
   "id": "d697ac59",
   "metadata": {
    "papermill": {
     "duration": 0.013816,
     "end_time": "2025-02-26T12:14:28.498352",
     "exception": false,
     "start_time": "2025-02-26T12:14:28.484536",
     "status": "completed"
    },
    "tags": []
   },
   "source": [
    "Pandas'ta Seçim İşlemleri (Selection in Pandas)"
   ]
  },
  {
   "cell_type": "code",
   "execution_count": 37,
   "id": "137e93b4",
   "metadata": {
    "execution": {
     "iopub.execute_input": "2025-02-26T12:14:28.527573Z",
     "iopub.status.busy": "2025-02-26T12:14:28.527233Z",
     "iopub.status.idle": "2025-02-26T12:14:28.538425Z",
     "shell.execute_reply": "2025-02-26T12:14:28.537474Z"
    },
    "papermill": {
     "duration": 0.027782,
     "end_time": "2025-02-26T12:14:28.540035",
     "exception": false,
     "start_time": "2025-02-26T12:14:28.512253",
     "status": "completed"
    },
    "tags": []
   },
   "outputs": [
    {
     "data": {
      "text/html": [
       "<div>\n",
       "<style scoped>\n",
       "    .dataframe tbody tr th:only-of-type {\n",
       "        vertical-align: middle;\n",
       "    }\n",
       "\n",
       "    .dataframe tbody tr th {\n",
       "        vertical-align: top;\n",
       "    }\n",
       "\n",
       "    .dataframe thead th {\n",
       "        text-align: right;\n",
       "    }\n",
       "</style>\n",
       "<table border=\"1\" class=\"dataframe\">\n",
       "  <thead>\n",
       "    <tr style=\"text-align: right;\">\n",
       "      <th></th>\n",
       "      <th>PRICE</th>\n",
       "      <th>SOURCE</th>\n",
       "      <th>SEX</th>\n",
       "      <th>COUNTRY</th>\n",
       "      <th>AGE</th>\n",
       "    </tr>\n",
       "  </thead>\n",
       "  <tbody>\n",
       "    <tr>\n",
       "      <th>0</th>\n",
       "      <td>39</td>\n",
       "      <td>android</td>\n",
       "      <td>male</td>\n",
       "      <td>bra</td>\n",
       "      <td>17</td>\n",
       "    </tr>\n",
       "    <tr>\n",
       "      <th>1</th>\n",
       "      <td>39</td>\n",
       "      <td>android</td>\n",
       "      <td>male</td>\n",
       "      <td>bra</td>\n",
       "      <td>17</td>\n",
       "    </tr>\n",
       "    <tr>\n",
       "      <th>2</th>\n",
       "      <td>49</td>\n",
       "      <td>android</td>\n",
       "      <td>male</td>\n",
       "      <td>bra</td>\n",
       "      <td>17</td>\n",
       "    </tr>\n",
       "    <tr>\n",
       "      <th>3</th>\n",
       "      <td>29</td>\n",
       "      <td>android</td>\n",
       "      <td>male</td>\n",
       "      <td>tur</td>\n",
       "      <td>17</td>\n",
       "    </tr>\n",
       "    <tr>\n",
       "      <th>4</th>\n",
       "      <td>49</td>\n",
       "      <td>android</td>\n",
       "      <td>male</td>\n",
       "      <td>tur</td>\n",
       "      <td>17</td>\n",
       "    </tr>\n",
       "    <tr>\n",
       "      <th>5</th>\n",
       "      <td>29</td>\n",
       "      <td>android</td>\n",
       "      <td>male</td>\n",
       "      <td>bra</td>\n",
       "      <td>17</td>\n",
       "    </tr>\n",
       "    <tr>\n",
       "      <th>6</th>\n",
       "      <td>19</td>\n",
       "      <td>android</td>\n",
       "      <td>male</td>\n",
       "      <td>bra</td>\n",
       "      <td>17</td>\n",
       "    </tr>\n",
       "    <tr>\n",
       "      <th>7</th>\n",
       "      <td>59</td>\n",
       "      <td>android</td>\n",
       "      <td>male</td>\n",
       "      <td>bra</td>\n",
       "      <td>17</td>\n",
       "    </tr>\n",
       "    <tr>\n",
       "      <th>8</th>\n",
       "      <td>49</td>\n",
       "      <td>android</td>\n",
       "      <td>male</td>\n",
       "      <td>bra</td>\n",
       "      <td>17</td>\n",
       "    </tr>\n",
       "    <tr>\n",
       "      <th>9</th>\n",
       "      <td>19</td>\n",
       "      <td>android</td>\n",
       "      <td>male</td>\n",
       "      <td>bra</td>\n",
       "      <td>17</td>\n",
       "    </tr>\n",
       "    <tr>\n",
       "      <th>10</th>\n",
       "      <td>49</td>\n",
       "      <td>android</td>\n",
       "      <td>male</td>\n",
       "      <td>bra</td>\n",
       "      <td>17</td>\n",
       "    </tr>\n",
       "    <tr>\n",
       "      <th>11</th>\n",
       "      <td>39</td>\n",
       "      <td>android</td>\n",
       "      <td>male</td>\n",
       "      <td>bra</td>\n",
       "      <td>17</td>\n",
       "    </tr>\n",
       "    <tr>\n",
       "      <th>12</th>\n",
       "      <td>19</td>\n",
       "      <td>android</td>\n",
       "      <td>male</td>\n",
       "      <td>bra</td>\n",
       "      <td>17</td>\n",
       "    </tr>\n",
       "  </tbody>\n",
       "</table>\n",
       "</div>"
      ],
      "text/plain": [
       "    PRICE   SOURCE   SEX COUNTRY  AGE\n",
       "0      39  android  male     bra   17\n",
       "1      39  android  male     bra   17\n",
       "2      49  android  male     bra   17\n",
       "3      29  android  male     tur   17\n",
       "4      49  android  male     tur   17\n",
       "5      29  android  male     bra   17\n",
       "6      19  android  male     bra   17\n",
       "7      59  android  male     bra   17\n",
       "8      49  android  male     bra   17\n",
       "9      19  android  male     bra   17\n",
       "10     49  android  male     bra   17\n",
       "11     39  android  male     bra   17\n",
       "12     19  android  male     bra   17"
      ]
     },
     "execution_count": 37,
     "metadata": {},
     "output_type": "execute_result"
    }
   ],
   "source": [
    "df[0:13] # slice işlemi"
   ]
  },
  {
   "cell_type": "code",
   "execution_count": 38,
   "id": "d93c647f",
   "metadata": {
    "execution": {
     "iopub.execute_input": "2025-02-26T12:14:28.569637Z",
     "iopub.status.busy": "2025-02-26T12:14:28.569290Z",
     "iopub.status.idle": "2025-02-26T12:14:28.581169Z",
     "shell.execute_reply": "2025-02-26T12:14:28.580025Z"
    },
    "papermill": {
     "duration": 0.028373,
     "end_time": "2025-02-26T12:14:28.582752",
     "exception": false,
     "start_time": "2025-02-26T12:14:28.554379",
     "status": "completed"
    },
    "tags": []
   },
   "outputs": [
    {
     "data": {
      "text/html": [
       "<div>\n",
       "<style scoped>\n",
       "    .dataframe tbody tr th:only-of-type {\n",
       "        vertical-align: middle;\n",
       "    }\n",
       "\n",
       "    .dataframe tbody tr th {\n",
       "        vertical-align: top;\n",
       "    }\n",
       "\n",
       "    .dataframe thead th {\n",
       "        text-align: right;\n",
       "    }\n",
       "</style>\n",
       "<table border=\"1\" class=\"dataframe\">\n",
       "  <thead>\n",
       "    <tr style=\"text-align: right;\">\n",
       "      <th></th>\n",
       "      <th>PRICE</th>\n",
       "      <th>SOURCE</th>\n",
       "      <th>SEX</th>\n",
       "      <th>COUNTRY</th>\n",
       "      <th>AGE</th>\n",
       "    </tr>\n",
       "  </thead>\n",
       "  <tbody>\n",
       "    <tr>\n",
       "      <th>0</th>\n",
       "      <td>39</td>\n",
       "      <td>android</td>\n",
       "      <td>male</td>\n",
       "      <td>bra</td>\n",
       "      <td>17</td>\n",
       "    </tr>\n",
       "    <tr>\n",
       "      <th>1</th>\n",
       "      <td>39</td>\n",
       "      <td>android</td>\n",
       "      <td>male</td>\n",
       "      <td>bra</td>\n",
       "      <td>17</td>\n",
       "    </tr>\n",
       "    <tr>\n",
       "      <th>2</th>\n",
       "      <td>49</td>\n",
       "      <td>android</td>\n",
       "      <td>male</td>\n",
       "      <td>bra</td>\n",
       "      <td>17</td>\n",
       "    </tr>\n",
       "    <tr>\n",
       "      <th>3</th>\n",
       "      <td>29</td>\n",
       "      <td>android</td>\n",
       "      <td>male</td>\n",
       "      <td>tur</td>\n",
       "      <td>17</td>\n",
       "    </tr>\n",
       "    <tr>\n",
       "      <th>4</th>\n",
       "      <td>49</td>\n",
       "      <td>android</td>\n",
       "      <td>male</td>\n",
       "      <td>tur</td>\n",
       "      <td>17</td>\n",
       "    </tr>\n",
       "    <tr>\n",
       "      <th>5</th>\n",
       "      <td>29</td>\n",
       "      <td>android</td>\n",
       "      <td>male</td>\n",
       "      <td>bra</td>\n",
       "      <td>17</td>\n",
       "    </tr>\n",
       "    <tr>\n",
       "      <th>6</th>\n",
       "      <td>19</td>\n",
       "      <td>android</td>\n",
       "      <td>male</td>\n",
       "      <td>bra</td>\n",
       "      <td>17</td>\n",
       "    </tr>\n",
       "    <tr>\n",
       "      <th>7</th>\n",
       "      <td>59</td>\n",
       "      <td>android</td>\n",
       "      <td>male</td>\n",
       "      <td>bra</td>\n",
       "      <td>17</td>\n",
       "    </tr>\n",
       "    <tr>\n",
       "      <th>8</th>\n",
       "      <td>49</td>\n",
       "      <td>android</td>\n",
       "      <td>male</td>\n",
       "      <td>bra</td>\n",
       "      <td>17</td>\n",
       "    </tr>\n",
       "    <tr>\n",
       "      <th>9</th>\n",
       "      <td>19</td>\n",
       "      <td>android</td>\n",
       "      <td>male</td>\n",
       "      <td>bra</td>\n",
       "      <td>17</td>\n",
       "    </tr>\n",
       "    <tr>\n",
       "      <th>10</th>\n",
       "      <td>49</td>\n",
       "      <td>android</td>\n",
       "      <td>male</td>\n",
       "      <td>bra</td>\n",
       "      <td>17</td>\n",
       "    </tr>\n",
       "    <tr>\n",
       "      <th>11</th>\n",
       "      <td>39</td>\n",
       "      <td>android</td>\n",
       "      <td>male</td>\n",
       "      <td>bra</td>\n",
       "      <td>17</td>\n",
       "    </tr>\n",
       "    <tr>\n",
       "      <th>12</th>\n",
       "      <td>19</td>\n",
       "      <td>android</td>\n",
       "      <td>male</td>\n",
       "      <td>bra</td>\n",
       "      <td>17</td>\n",
       "    </tr>\n",
       "    <tr>\n",
       "      <th>13</th>\n",
       "      <td>49</td>\n",
       "      <td>android</td>\n",
       "      <td>male</td>\n",
       "      <td>bra</td>\n",
       "      <td>17</td>\n",
       "    </tr>\n",
       "    <tr>\n",
       "      <th>14</th>\n",
       "      <td>39</td>\n",
       "      <td>android</td>\n",
       "      <td>male</td>\n",
       "      <td>bra</td>\n",
       "      <td>17</td>\n",
       "    </tr>\n",
       "    <tr>\n",
       "      <th>15</th>\n",
       "      <td>49</td>\n",
       "      <td>android</td>\n",
       "      <td>male</td>\n",
       "      <td>bra</td>\n",
       "      <td>17</td>\n",
       "    </tr>\n",
       "    <tr>\n",
       "      <th>16</th>\n",
       "      <td>29</td>\n",
       "      <td>android</td>\n",
       "      <td>male</td>\n",
       "      <td>bra</td>\n",
       "      <td>17</td>\n",
       "    </tr>\n",
       "    <tr>\n",
       "      <th>17</th>\n",
       "      <td>29</td>\n",
       "      <td>android</td>\n",
       "      <td>female</td>\n",
       "      <td>usa</td>\n",
       "      <td>26</td>\n",
       "    </tr>\n",
       "    <tr>\n",
       "      <th>18</th>\n",
       "      <td>9</td>\n",
       "      <td>android</td>\n",
       "      <td>female</td>\n",
       "      <td>usa</td>\n",
       "      <td>26</td>\n",
       "    </tr>\n",
       "    <tr>\n",
       "      <th>19</th>\n",
       "      <td>49</td>\n",
       "      <td>ios</td>\n",
       "      <td>female</td>\n",
       "      <td>bra</td>\n",
       "      <td>26</td>\n",
       "    </tr>\n",
       "    <tr>\n",
       "      <th>20</th>\n",
       "      <td>19</td>\n",
       "      <td>ios</td>\n",
       "      <td>female</td>\n",
       "      <td>bra</td>\n",
       "      <td>26</td>\n",
       "    </tr>\n",
       "    <tr>\n",
       "      <th>21</th>\n",
       "      <td>29</td>\n",
       "      <td>ios</td>\n",
       "      <td>female</td>\n",
       "      <td>bra</td>\n",
       "      <td>26</td>\n",
       "    </tr>\n",
       "    <tr>\n",
       "      <th>22</th>\n",
       "      <td>49</td>\n",
       "      <td>ios</td>\n",
       "      <td>female</td>\n",
       "      <td>bra</td>\n",
       "      <td>26</td>\n",
       "    </tr>\n",
       "    <tr>\n",
       "      <th>23</th>\n",
       "      <td>49</td>\n",
       "      <td>ios</td>\n",
       "      <td>female</td>\n",
       "      <td>bra</td>\n",
       "      <td>26</td>\n",
       "    </tr>\n",
       "    <tr>\n",
       "      <th>24</th>\n",
       "      <td>19</td>\n",
       "      <td>android</td>\n",
       "      <td>female</td>\n",
       "      <td>usa</td>\n",
       "      <td>23</td>\n",
       "    </tr>\n",
       "    <tr>\n",
       "      <th>25</th>\n",
       "      <td>19</td>\n",
       "      <td>android</td>\n",
       "      <td>female</td>\n",
       "      <td>usa</td>\n",
       "      <td>23</td>\n",
       "    </tr>\n",
       "    <tr>\n",
       "      <th>26</th>\n",
       "      <td>39</td>\n",
       "      <td>android</td>\n",
       "      <td>female</td>\n",
       "      <td>usa</td>\n",
       "      <td>23</td>\n",
       "    </tr>\n",
       "    <tr>\n",
       "      <th>27</th>\n",
       "      <td>29</td>\n",
       "      <td>android</td>\n",
       "      <td>female</td>\n",
       "      <td>usa</td>\n",
       "      <td>23</td>\n",
       "    </tr>\n",
       "    <tr>\n",
       "      <th>28</th>\n",
       "      <td>19</td>\n",
       "      <td>android</td>\n",
       "      <td>female</td>\n",
       "      <td>usa</td>\n",
       "      <td>23</td>\n",
       "    </tr>\n",
       "  </tbody>\n",
       "</table>\n",
       "</div>"
      ],
      "text/plain": [
       "    PRICE   SOURCE     SEX COUNTRY  AGE\n",
       "0      39  android    male     bra   17\n",
       "1      39  android    male     bra   17\n",
       "2      49  android    male     bra   17\n",
       "3      29  android    male     tur   17\n",
       "4      49  android    male     tur   17\n",
       "5      29  android    male     bra   17\n",
       "6      19  android    male     bra   17\n",
       "7      59  android    male     bra   17\n",
       "8      49  android    male     bra   17\n",
       "9      19  android    male     bra   17\n",
       "10     49  android    male     bra   17\n",
       "11     39  android    male     bra   17\n",
       "12     19  android    male     bra   17\n",
       "13     49  android    male     bra   17\n",
       "14     39  android    male     bra   17\n",
       "15     49  android    male     bra   17\n",
       "16     29  android    male     bra   17\n",
       "17     29  android  female     usa   26\n",
       "18      9  android  female     usa   26\n",
       "19     49      ios  female     bra   26\n",
       "20     19      ios  female     bra   26\n",
       "21     29      ios  female     bra   26\n",
       "22     49      ios  female     bra   26\n",
       "23     49      ios  female     bra   26\n",
       "24     19  android  female     usa   23\n",
       "25     19  android  female     usa   23\n",
       "26     39  android  female     usa   23\n",
       "27     29  android  female     usa   23\n",
       "28     19  android  female     usa   23"
      ]
     },
     "execution_count": 38,
     "metadata": {},
     "output_type": "execute_result"
    }
   ],
   "source": [
    "df[0:29] # slice işlemi"
   ]
  },
  {
   "cell_type": "code",
   "execution_count": 39,
   "id": "b53c7f35",
   "metadata": {
    "execution": {
     "iopub.execute_input": "2025-02-26T12:14:28.613072Z",
     "iopub.status.busy": "2025-02-26T12:14:28.612704Z",
     "iopub.status.idle": "2025-02-26T12:14:28.629447Z",
     "shell.execute_reply": "2025-02-26T12:14:28.628367Z"
    },
    "papermill": {
     "duration": 0.033738,
     "end_time": "2025-02-26T12:14:28.631077",
     "exception": false,
     "start_time": "2025-02-26T12:14:28.597339",
     "status": "completed"
    },
    "tags": []
   },
   "outputs": [
    {
     "data": {
      "text/html": [
       "<div>\n",
       "<style scoped>\n",
       "    .dataframe tbody tr th:only-of-type {\n",
       "        vertical-align: middle;\n",
       "    }\n",
       "\n",
       "    .dataframe tbody tr th {\n",
       "        vertical-align: top;\n",
       "    }\n",
       "\n",
       "    .dataframe thead th {\n",
       "        text-align: right;\n",
       "    }\n",
       "</style>\n",
       "<table border=\"1\" class=\"dataframe\">\n",
       "  <thead>\n",
       "    <tr style=\"text-align: right;\">\n",
       "      <th></th>\n",
       "      <th>PRICE</th>\n",
       "      <th>SOURCE</th>\n",
       "      <th>SEX</th>\n",
       "      <th>COUNTRY</th>\n",
       "      <th>AGE</th>\n",
       "    </tr>\n",
       "  </thead>\n",
       "  <tbody>\n",
       "    <tr>\n",
       "      <th>1</th>\n",
       "      <td>39</td>\n",
       "      <td>android</td>\n",
       "      <td>male</td>\n",
       "      <td>bra</td>\n",
       "      <td>17</td>\n",
       "    </tr>\n",
       "    <tr>\n",
       "      <th>2</th>\n",
       "      <td>49</td>\n",
       "      <td>android</td>\n",
       "      <td>male</td>\n",
       "      <td>bra</td>\n",
       "      <td>17</td>\n",
       "    </tr>\n",
       "    <tr>\n",
       "      <th>3</th>\n",
       "      <td>29</td>\n",
       "      <td>android</td>\n",
       "      <td>male</td>\n",
       "      <td>tur</td>\n",
       "      <td>17</td>\n",
       "    </tr>\n",
       "    <tr>\n",
       "      <th>4</th>\n",
       "      <td>49</td>\n",
       "      <td>android</td>\n",
       "      <td>male</td>\n",
       "      <td>tur</td>\n",
       "      <td>17</td>\n",
       "    </tr>\n",
       "    <tr>\n",
       "      <th>5</th>\n",
       "      <td>29</td>\n",
       "      <td>android</td>\n",
       "      <td>male</td>\n",
       "      <td>bra</td>\n",
       "      <td>17</td>\n",
       "    </tr>\n",
       "  </tbody>\n",
       "</table>\n",
       "</div>"
      ],
      "text/plain": [
       "   PRICE   SOURCE   SEX COUNTRY  AGE\n",
       "1     39  android  male     bra   17\n",
       "2     49  android  male     bra   17\n",
       "3     29  android  male     tur   17\n",
       "4     49  android  male     tur   17\n",
       "5     29  android  male     bra   17"
      ]
     },
     "execution_count": 39,
     "metadata": {},
     "output_type": "execute_result"
    }
   ],
   "source": [
    "df.drop(0, axis=0).head() # kalıcı değil"
   ]
  },
  {
   "cell_type": "code",
   "execution_count": 40,
   "id": "89b00aa8",
   "metadata": {
    "execution": {
     "iopub.execute_input": "2025-02-26T12:14:28.661330Z",
     "iopub.status.busy": "2025-02-26T12:14:28.660962Z",
     "iopub.status.idle": "2025-02-26T12:14:28.672401Z",
     "shell.execute_reply": "2025-02-26T12:14:28.671382Z"
    },
    "papermill": {
     "duration": 0.028415,
     "end_time": "2025-02-26T12:14:28.674161",
     "exception": false,
     "start_time": "2025-02-26T12:14:28.645746",
     "status": "completed"
    },
    "tags": []
   },
   "outputs": [
    {
     "data": {
      "text/html": [
       "<div>\n",
       "<style scoped>\n",
       "    .dataframe tbody tr th:only-of-type {\n",
       "        vertical-align: middle;\n",
       "    }\n",
       "\n",
       "    .dataframe tbody tr th {\n",
       "        vertical-align: top;\n",
       "    }\n",
       "\n",
       "    .dataframe thead th {\n",
       "        text-align: right;\n",
       "    }\n",
       "</style>\n",
       "<table border=\"1\" class=\"dataframe\">\n",
       "  <thead>\n",
       "    <tr style=\"text-align: right;\">\n",
       "      <th></th>\n",
       "      <th>PRICE</th>\n",
       "      <th>SOURCE</th>\n",
       "      <th>SEX</th>\n",
       "      <th>COUNTRY</th>\n",
       "      <th>AGE</th>\n",
       "    </tr>\n",
       "  </thead>\n",
       "  <tbody>\n",
       "    <tr>\n",
       "      <th>0</th>\n",
       "      <td>39</td>\n",
       "      <td>android</td>\n",
       "      <td>male</td>\n",
       "      <td>bra</td>\n",
       "      <td>17</td>\n",
       "    </tr>\n",
       "    <tr>\n",
       "      <th>1</th>\n",
       "      <td>39</td>\n",
       "      <td>android</td>\n",
       "      <td>male</td>\n",
       "      <td>bra</td>\n",
       "      <td>17</td>\n",
       "    </tr>\n",
       "    <tr>\n",
       "      <th>2</th>\n",
       "      <td>49</td>\n",
       "      <td>android</td>\n",
       "      <td>male</td>\n",
       "      <td>bra</td>\n",
       "      <td>17</td>\n",
       "    </tr>\n",
       "    <tr>\n",
       "      <th>3</th>\n",
       "      <td>29</td>\n",
       "      <td>android</td>\n",
       "      <td>male</td>\n",
       "      <td>tur</td>\n",
       "      <td>17</td>\n",
       "    </tr>\n",
       "    <tr>\n",
       "      <th>4</th>\n",
       "      <td>49</td>\n",
       "      <td>android</td>\n",
       "      <td>male</td>\n",
       "      <td>tur</td>\n",
       "      <td>17</td>\n",
       "    </tr>\n",
       "  </tbody>\n",
       "</table>\n",
       "</div>"
      ],
      "text/plain": [
       "   PRICE   SOURCE   SEX COUNTRY  AGE\n",
       "0     39  android  male     bra   17\n",
       "1     39  android  male     bra   17\n",
       "2     49  android  male     bra   17\n",
       "3     29  android  male     tur   17\n",
       "4     49  android  male     tur   17"
      ]
     },
     "execution_count": 40,
     "metadata": {},
     "output_type": "execute_result"
    }
   ],
   "source": [
    "delete_indexes = [1, 3, 5, 7]\n",
    "df.drop(delete_indexes, axis=0).head(10)\n",
    "df.head()"
   ]
  },
  {
   "cell_type": "markdown",
   "id": "186fa1ff",
   "metadata": {
    "papermill": {
     "duration": 0.014491,
     "end_time": "2025-02-26T12:14:28.703252",
     "exception": false,
     "start_time": "2025-02-26T12:14:28.688761",
     "status": "completed"
    },
    "tags": []
   },
   "source": [
    "Converting a Variable to Index"
   ]
  },
  {
   "cell_type": "code",
   "execution_count": 41,
   "id": "133869e9",
   "metadata": {
    "execution": {
     "iopub.execute_input": "2025-02-26T12:14:28.734617Z",
     "iopub.status.busy": "2025-02-26T12:14:28.734218Z",
     "iopub.status.idle": "2025-02-26T12:14:28.741040Z",
     "shell.execute_reply": "2025-02-26T12:14:28.740030Z"
    },
    "papermill": {
     "duration": 0.024814,
     "end_time": "2025-02-26T12:14:28.742672",
     "exception": false,
     "start_time": "2025-02-26T12:14:28.717858",
     "status": "completed"
    },
    "tags": []
   },
   "outputs": [
    {
     "data": {
      "text/plain": [
       "0    17\n",
       "1    17\n",
       "2    17\n",
       "3    17\n",
       "4    17\n",
       "Name: AGE, dtype: int64"
      ]
     },
     "execution_count": 41,
     "metadata": {},
     "output_type": "execute_result"
    }
   ],
   "source": [
    "df[\"AGE\"].head() \n",
    "df.AGE.head() \n",
    "# aynı"
   ]
  },
  {
   "cell_type": "code",
   "execution_count": 42,
   "id": "89b64092",
   "metadata": {
    "execution": {
     "iopub.execute_input": "2025-02-26T12:14:28.774491Z",
     "iopub.status.busy": "2025-02-26T12:14:28.774137Z",
     "iopub.status.idle": "2025-02-26T12:14:28.784081Z",
     "shell.execute_reply": "2025-02-26T12:14:28.783158Z"
    },
    "papermill": {
     "duration": 0.02713,
     "end_time": "2025-02-26T12:14:28.785564",
     "exception": false,
     "start_time": "2025-02-26T12:14:28.758434",
     "status": "completed"
    },
    "tags": []
   },
   "outputs": [
    {
     "data": {
      "text/html": [
       "<div>\n",
       "<style scoped>\n",
       "    .dataframe tbody tr th:only-of-type {\n",
       "        vertical-align: middle;\n",
       "    }\n",
       "\n",
       "    .dataframe tbody tr th {\n",
       "        vertical-align: top;\n",
       "    }\n",
       "\n",
       "    .dataframe thead th {\n",
       "        text-align: right;\n",
       "    }\n",
       "</style>\n",
       "<table border=\"1\" class=\"dataframe\">\n",
       "  <thead>\n",
       "    <tr style=\"text-align: right;\">\n",
       "      <th></th>\n",
       "      <th>PRICE</th>\n",
       "      <th>SOURCE</th>\n",
       "      <th>SEX</th>\n",
       "      <th>COUNTRY</th>\n",
       "      <th>AGE</th>\n",
       "    </tr>\n",
       "    <tr>\n",
       "      <th>AGE</th>\n",
       "      <th></th>\n",
       "      <th></th>\n",
       "      <th></th>\n",
       "      <th></th>\n",
       "      <th></th>\n",
       "    </tr>\n",
       "  </thead>\n",
       "  <tbody>\n",
       "    <tr>\n",
       "      <th>17</th>\n",
       "      <td>39</td>\n",
       "      <td>android</td>\n",
       "      <td>male</td>\n",
       "      <td>bra</td>\n",
       "      <td>17</td>\n",
       "    </tr>\n",
       "    <tr>\n",
       "      <th>17</th>\n",
       "      <td>39</td>\n",
       "      <td>android</td>\n",
       "      <td>male</td>\n",
       "      <td>bra</td>\n",
       "      <td>17</td>\n",
       "    </tr>\n",
       "    <tr>\n",
       "      <th>17</th>\n",
       "      <td>49</td>\n",
       "      <td>android</td>\n",
       "      <td>male</td>\n",
       "      <td>bra</td>\n",
       "      <td>17</td>\n",
       "    </tr>\n",
       "    <tr>\n",
       "      <th>17</th>\n",
       "      <td>29</td>\n",
       "      <td>android</td>\n",
       "      <td>male</td>\n",
       "      <td>tur</td>\n",
       "      <td>17</td>\n",
       "    </tr>\n",
       "    <tr>\n",
       "      <th>17</th>\n",
       "      <td>49</td>\n",
       "      <td>android</td>\n",
       "      <td>male</td>\n",
       "      <td>tur</td>\n",
       "      <td>17</td>\n",
       "    </tr>\n",
       "  </tbody>\n",
       "</table>\n",
       "</div>"
      ],
      "text/plain": [
       "     PRICE   SOURCE   SEX COUNTRY  AGE\n",
       "AGE                                   \n",
       "17      39  android  male     bra   17\n",
       "17      39  android  male     bra   17\n",
       "17      49  android  male     bra   17\n",
       "17      29  android  male     tur   17\n",
       "17      49  android  male     tur   17"
      ]
     },
     "execution_count": 42,
     "metadata": {},
     "output_type": "execute_result"
    }
   ],
   "source": [
    "df.index = df[\"AGE\"]\n",
    "df.head()"
   ]
  },
  {
   "cell_type": "code",
   "execution_count": 43,
   "id": "751d5ae7",
   "metadata": {
    "execution": {
     "iopub.execute_input": "2025-02-26T12:14:28.818149Z",
     "iopub.status.busy": "2025-02-26T12:14:28.817774Z",
     "iopub.status.idle": "2025-02-26T12:14:28.830324Z",
     "shell.execute_reply": "2025-02-26T12:14:28.829367Z"
    },
    "papermill": {
     "duration": 0.029793,
     "end_time": "2025-02-26T12:14:28.831904",
     "exception": false,
     "start_time": "2025-02-26T12:14:28.802111",
     "status": "completed"
    },
    "tags": []
   },
   "outputs": [
    {
     "data": {
      "text/html": [
       "<div>\n",
       "<style scoped>\n",
       "    .dataframe tbody tr th:only-of-type {\n",
       "        vertical-align: middle;\n",
       "    }\n",
       "\n",
       "    .dataframe tbody tr th {\n",
       "        vertical-align: top;\n",
       "    }\n",
       "\n",
       "    .dataframe thead th {\n",
       "        text-align: right;\n",
       "    }\n",
       "</style>\n",
       "<table border=\"1\" class=\"dataframe\">\n",
       "  <thead>\n",
       "    <tr style=\"text-align: right;\">\n",
       "      <th></th>\n",
       "      <th>PRICE</th>\n",
       "      <th>SOURCE</th>\n",
       "      <th>SEX</th>\n",
       "      <th>COUNTRY</th>\n",
       "    </tr>\n",
       "    <tr>\n",
       "      <th>AGE</th>\n",
       "      <th></th>\n",
       "      <th></th>\n",
       "      <th></th>\n",
       "      <th></th>\n",
       "    </tr>\n",
       "  </thead>\n",
       "  <tbody>\n",
       "    <tr>\n",
       "      <th>17</th>\n",
       "      <td>39</td>\n",
       "      <td>android</td>\n",
       "      <td>male</td>\n",
       "      <td>bra</td>\n",
       "    </tr>\n",
       "    <tr>\n",
       "      <th>17</th>\n",
       "      <td>39</td>\n",
       "      <td>android</td>\n",
       "      <td>male</td>\n",
       "      <td>bra</td>\n",
       "    </tr>\n",
       "    <tr>\n",
       "      <th>17</th>\n",
       "      <td>49</td>\n",
       "      <td>android</td>\n",
       "      <td>male</td>\n",
       "      <td>bra</td>\n",
       "    </tr>\n",
       "    <tr>\n",
       "      <th>17</th>\n",
       "      <td>29</td>\n",
       "      <td>android</td>\n",
       "      <td>male</td>\n",
       "      <td>tur</td>\n",
       "    </tr>\n",
       "    <tr>\n",
       "      <th>17</th>\n",
       "      <td>49</td>\n",
       "      <td>android</td>\n",
       "      <td>male</td>\n",
       "      <td>tur</td>\n",
       "    </tr>\n",
       "  </tbody>\n",
       "</table>\n",
       "</div>"
      ],
      "text/plain": [
       "     PRICE   SOURCE   SEX COUNTRY\n",
       "AGE                              \n",
       "17      39  android  male     bra\n",
       "17      39  android  male     bra\n",
       "17      49  android  male     bra\n",
       "17      29  android  male     tur\n",
       "17      49  android  male     tur"
      ]
     },
     "execution_count": 43,
     "metadata": {},
     "output_type": "execute_result"
    }
   ],
   "source": [
    "df.drop(\"AGE\", axis=1).head()"
   ]
  },
  {
   "cell_type": "code",
   "execution_count": 44,
   "id": "28b2d859",
   "metadata": {
    "execution": {
     "iopub.execute_input": "2025-02-26T12:14:28.864415Z",
     "iopub.status.busy": "2025-02-26T12:14:28.864088Z",
     "iopub.status.idle": "2025-02-26T12:14:28.875377Z",
     "shell.execute_reply": "2025-02-26T12:14:28.874425Z"
    },
    "papermill": {
     "duration": 0.029694,
     "end_time": "2025-02-26T12:14:28.877015",
     "exception": false,
     "start_time": "2025-02-26T12:14:28.847321",
     "status": "completed"
    },
    "tags": []
   },
   "outputs": [
    {
     "data": {
      "text/html": [
       "<div>\n",
       "<style scoped>\n",
       "    .dataframe tbody tr th:only-of-type {\n",
       "        vertical-align: middle;\n",
       "    }\n",
       "\n",
       "    .dataframe tbody tr th {\n",
       "        vertical-align: top;\n",
       "    }\n",
       "\n",
       "    .dataframe thead th {\n",
       "        text-align: right;\n",
       "    }\n",
       "</style>\n",
       "<table border=\"1\" class=\"dataframe\">\n",
       "  <thead>\n",
       "    <tr style=\"text-align: right;\">\n",
       "      <th></th>\n",
       "      <th>PRICE</th>\n",
       "      <th>SOURCE</th>\n",
       "      <th>SEX</th>\n",
       "      <th>COUNTRY</th>\n",
       "      <th>AGE</th>\n",
       "    </tr>\n",
       "    <tr>\n",
       "      <th>AGE</th>\n",
       "      <th></th>\n",
       "      <th></th>\n",
       "      <th></th>\n",
       "      <th></th>\n",
       "      <th></th>\n",
       "    </tr>\n",
       "  </thead>\n",
       "  <tbody>\n",
       "    <tr>\n",
       "      <th>17</th>\n",
       "      <td>29</td>\n",
       "      <td>android</td>\n",
       "      <td>male</td>\n",
       "      <td>tur</td>\n",
       "      <td>17</td>\n",
       "    </tr>\n",
       "    <tr>\n",
       "      <th>17</th>\n",
       "      <td>49</td>\n",
       "      <td>android</td>\n",
       "      <td>male</td>\n",
       "      <td>tur</td>\n",
       "      <td>17</td>\n",
       "    </tr>\n",
       "    <tr>\n",
       "      <th>42</th>\n",
       "      <td>19</td>\n",
       "      <td>ios</td>\n",
       "      <td>male</td>\n",
       "      <td>tur</td>\n",
       "      <td>42</td>\n",
       "    </tr>\n",
       "    <tr>\n",
       "      <th>42</th>\n",
       "      <td>39</td>\n",
       "      <td>ios</td>\n",
       "      <td>male</td>\n",
       "      <td>tur</td>\n",
       "      <td>42</td>\n",
       "    </tr>\n",
       "    <tr>\n",
       "      <th>42</th>\n",
       "      <td>39</td>\n",
       "      <td>ios</td>\n",
       "      <td>male</td>\n",
       "      <td>tur</td>\n",
       "      <td>42</td>\n",
       "    </tr>\n",
       "  </tbody>\n",
       "</table>\n",
       "</div>"
      ],
      "text/plain": [
       "     PRICE   SOURCE   SEX COUNTRY  AGE\n",
       "AGE                                   \n",
       "17      29  android  male     tur   17\n",
       "17      49  android  male     tur   17\n",
       "42      19      ios  male     tur   42\n",
       "42      39      ios  male     tur   42\n",
       "42      39      ios  male     tur   42"
      ]
     },
     "execution_count": 44,
     "metadata": {},
     "output_type": "execute_result"
    }
   ],
   "source": [
    "df.loc[df[\"COUNTRY\"] == \"tur\"].head()"
   ]
  },
  {
   "cell_type": "code",
   "execution_count": 45,
   "id": "26439301",
   "metadata": {
    "execution": {
     "iopub.execute_input": "2025-02-26T12:14:28.909011Z",
     "iopub.status.busy": "2025-02-26T12:14:28.908620Z",
     "iopub.status.idle": "2025-02-26T12:14:28.919041Z",
     "shell.execute_reply": "2025-02-26T12:14:28.918033Z"
    },
    "papermill": {
     "duration": 0.02822,
     "end_time": "2025-02-26T12:14:28.920535",
     "exception": false,
     "start_time": "2025-02-26T12:14:28.892315",
     "status": "completed"
    },
    "tags": []
   },
   "outputs": [
    {
     "data": {
      "text/html": [
       "<div>\n",
       "<style scoped>\n",
       "    .dataframe tbody tr th:only-of-type {\n",
       "        vertical-align: middle;\n",
       "    }\n",
       "\n",
       "    .dataframe tbody tr th {\n",
       "        vertical-align: top;\n",
       "    }\n",
       "\n",
       "    .dataframe thead th {\n",
       "        text-align: right;\n",
       "    }\n",
       "</style>\n",
       "<table border=\"1\" class=\"dataframe\">\n",
       "  <thead>\n",
       "    <tr style=\"text-align: right;\">\n",
       "      <th></th>\n",
       "      <th>AGE</th>\n",
       "      <th>SOURCE</th>\n",
       "    </tr>\n",
       "    <tr>\n",
       "      <th>AGE</th>\n",
       "      <th></th>\n",
       "      <th></th>\n",
       "    </tr>\n",
       "  </thead>\n",
       "  <tbody>\n",
       "    <tr>\n",
       "      <th>17</th>\n",
       "      <td>17</td>\n",
       "      <td>android</td>\n",
       "    </tr>\n",
       "    <tr>\n",
       "      <th>17</th>\n",
       "      <td>17</td>\n",
       "      <td>android</td>\n",
       "    </tr>\n",
       "    <tr>\n",
       "      <th>42</th>\n",
       "      <td>42</td>\n",
       "      <td>ios</td>\n",
       "    </tr>\n",
       "    <tr>\n",
       "      <th>42</th>\n",
       "      <td>42</td>\n",
       "      <td>ios</td>\n",
       "    </tr>\n",
       "    <tr>\n",
       "      <th>42</th>\n",
       "      <td>42</td>\n",
       "      <td>ios</td>\n",
       "    </tr>\n",
       "  </tbody>\n",
       "</table>\n",
       "</div>"
      ],
      "text/plain": [
       "     AGE   SOURCE\n",
       "AGE              \n",
       "17    17  android\n",
       "17    17  android\n",
       "42    42      ios\n",
       "42    42      ios\n",
       "42    42      ios"
      ]
     },
     "execution_count": 45,
     "metadata": {},
     "output_type": "execute_result"
    }
   ],
   "source": [
    "df.loc[df[\"COUNTRY\"] == \"tur\", [\"AGE\", \"SOURCE\"]].head()"
   ]
  },
  {
   "cell_type": "code",
   "execution_count": 46,
   "id": "005ec9fa",
   "metadata": {
    "execution": {
     "iopub.execute_input": "2025-02-26T12:14:28.952694Z",
     "iopub.status.busy": "2025-02-26T12:14:28.952353Z",
     "iopub.status.idle": "2025-02-26T12:14:28.961761Z",
     "shell.execute_reply": "2025-02-26T12:14:28.960738Z"
    },
    "papermill": {
     "duration": 0.027231,
     "end_time": "2025-02-26T12:14:28.963354",
     "exception": false,
     "start_time": "2025-02-26T12:14:28.936123",
     "status": "completed"
    },
    "tags": []
   },
   "outputs": [
    {
     "data": {
      "text/html": [
       "<div>\n",
       "<style scoped>\n",
       "    .dataframe tbody tr th:only-of-type {\n",
       "        vertical-align: middle;\n",
       "    }\n",
       "\n",
       "    .dataframe tbody tr th {\n",
       "        vertical-align: top;\n",
       "    }\n",
       "\n",
       "    .dataframe thead th {\n",
       "        text-align: right;\n",
       "    }\n",
       "</style>\n",
       "<table border=\"1\" class=\"dataframe\">\n",
       "  <thead>\n",
       "    <tr style=\"text-align: right;\">\n",
       "      <th></th>\n",
       "      <th>PRICE</th>\n",
       "      <th>SOURCE</th>\n",
       "      <th>SEX</th>\n",
       "    </tr>\n",
       "    <tr>\n",
       "      <th>AGE</th>\n",
       "      <th></th>\n",
       "      <th></th>\n",
       "      <th></th>\n",
       "    </tr>\n",
       "  </thead>\n",
       "  <tbody>\n",
       "    <tr>\n",
       "      <th>17</th>\n",
       "      <td>39</td>\n",
       "      <td>android</td>\n",
       "      <td>male</td>\n",
       "    </tr>\n",
       "    <tr>\n",
       "      <th>17</th>\n",
       "      <td>39</td>\n",
       "      <td>android</td>\n",
       "      <td>male</td>\n",
       "    </tr>\n",
       "    <tr>\n",
       "      <th>17</th>\n",
       "      <td>49</td>\n",
       "      <td>android</td>\n",
       "      <td>male</td>\n",
       "    </tr>\n",
       "  </tbody>\n",
       "</table>\n",
       "</div>"
      ],
      "text/plain": [
       "     PRICE   SOURCE   SEX\n",
       "AGE                      \n",
       "17      39  android  male\n",
       "17      39  android  male\n",
       "17      49  android  male"
      ]
     },
     "execution_count": 46,
     "metadata": {},
     "output_type": "execute_result"
    }
   ],
   "source": [
    "df.iloc[0:3, 0:3]"
   ]
  },
  {
   "cell_type": "code",
   "execution_count": 47,
   "id": "322361c5",
   "metadata": {
    "execution": {
     "iopub.execute_input": "2025-02-26T12:14:28.995437Z",
     "iopub.status.busy": "2025-02-26T12:14:28.995099Z",
     "iopub.status.idle": "2025-02-26T12:14:29.004215Z",
     "shell.execute_reply": "2025-02-26T12:14:29.003181Z"
    },
    "papermill": {
     "duration": 0.02663,
     "end_time": "2025-02-26T12:14:29.005682",
     "exception": false,
     "start_time": "2025-02-26T12:14:28.979052",
     "status": "completed"
    },
    "tags": []
   },
   "outputs": [
    {
     "data": {
      "text/html": [
       "<div>\n",
       "<style scoped>\n",
       "    .dataframe tbody tr th:only-of-type {\n",
       "        vertical-align: middle;\n",
       "    }\n",
       "\n",
       "    .dataframe tbody tr th {\n",
       "        vertical-align: top;\n",
       "    }\n",
       "\n",
       "    .dataframe thead th {\n",
       "        text-align: right;\n",
       "    }\n",
       "</style>\n",
       "<table border=\"1\" class=\"dataframe\">\n",
       "  <thead>\n",
       "    <tr style=\"text-align: right;\">\n",
       "      <th></th>\n",
       "      <th>PRICE</th>\n",
       "      <th>SOURCE</th>\n",
       "    </tr>\n",
       "    <tr>\n",
       "      <th>AGE</th>\n",
       "      <th></th>\n",
       "      <th></th>\n",
       "    </tr>\n",
       "  </thead>\n",
       "  <tbody>\n",
       "    <tr>\n",
       "      <th>17</th>\n",
       "      <td>39</td>\n",
       "      <td>android</td>\n",
       "    </tr>\n",
       "    <tr>\n",
       "      <th>17</th>\n",
       "      <td>29</td>\n",
       "      <td>android</td>\n",
       "    </tr>\n",
       "    <tr>\n",
       "      <th>17</th>\n",
       "      <td>29</td>\n",
       "      <td>android</td>\n",
       "    </tr>\n",
       "  </tbody>\n",
       "</table>\n",
       "</div>"
      ],
      "text/plain": [
       "     PRICE   SOURCE\n",
       "AGE                \n",
       "17      39  android\n",
       "17      29  android\n",
       "17      29  android"
      ]
     },
     "execution_count": 47,
     "metadata": {},
     "output_type": "execute_result"
    }
   ],
   "source": [
    "df.iloc[[1, 3, 5], [0, 1]]"
   ]
  },
  {
   "cell_type": "code",
   "execution_count": 48,
   "id": "2b159501",
   "metadata": {
    "execution": {
     "iopub.execute_input": "2025-02-26T12:14:29.038596Z",
     "iopub.status.busy": "2025-02-26T12:14:29.038222Z",
     "iopub.status.idle": "2025-02-26T12:14:29.047536Z",
     "shell.execute_reply": "2025-02-26T12:14:29.046616Z"
    },
    "papermill": {
     "duration": 0.027842,
     "end_time": "2025-02-26T12:14:29.049306",
     "exception": false,
     "start_time": "2025-02-26T12:14:29.021464",
     "status": "completed"
    },
    "tags": []
   },
   "outputs": [
    {
     "data": {
      "text/html": [
       "<div>\n",
       "<style scoped>\n",
       "    .dataframe tbody tr th:only-of-type {\n",
       "        vertical-align: middle;\n",
       "    }\n",
       "\n",
       "    .dataframe tbody tr th {\n",
       "        vertical-align: top;\n",
       "    }\n",
       "\n",
       "    .dataframe thead th {\n",
       "        text-align: right;\n",
       "    }\n",
       "</style>\n",
       "<table border=\"1\" class=\"dataframe\">\n",
       "  <thead>\n",
       "    <tr style=\"text-align: right;\">\n",
       "      <th></th>\n",
       "      <th>SOURCE</th>\n",
       "      <th>SEX</th>\n",
       "    </tr>\n",
       "    <tr>\n",
       "      <th>AGE</th>\n",
       "      <th></th>\n",
       "      <th></th>\n",
       "    </tr>\n",
       "  </thead>\n",
       "  <tbody>\n",
       "    <tr>\n",
       "      <th>17</th>\n",
       "      <td>android</td>\n",
       "      <td>male</td>\n",
       "    </tr>\n",
       "    <tr>\n",
       "      <th>17</th>\n",
       "      <td>android</td>\n",
       "      <td>male</td>\n",
       "    </tr>\n",
       "    <tr>\n",
       "      <th>17</th>\n",
       "      <td>android</td>\n",
       "      <td>male</td>\n",
       "    </tr>\n",
       "  </tbody>\n",
       "</table>\n",
       "</div>"
      ],
      "text/plain": [
       "      SOURCE   SEX\n",
       "AGE               \n",
       "17   android  male\n",
       "17   android  male\n",
       "17   android  male"
      ]
     },
     "execution_count": 48,
     "metadata": {},
     "output_type": "execute_result"
    }
   ],
   "source": [
    "df.iloc[3:6, 1:3]"
   ]
  },
  {
   "cell_type": "markdown",
   "id": "d88e2643",
   "metadata": {
    "papermill": {
     "duration": 0.015528,
     "end_time": "2025-02-26T12:14:29.081581",
     "exception": false,
     "start_time": "2025-02-26T12:14:29.066053",
     "status": "completed"
    },
    "tags": []
   },
   "source": [
    "Koşullu Seçim (Conditional Selection)"
   ]
  },
  {
   "cell_type": "code",
   "execution_count": 49,
   "id": "987b9d15",
   "metadata": {
    "execution": {
     "iopub.execute_input": "2025-02-26T12:14:29.115143Z",
     "iopub.status.busy": "2025-02-26T12:14:29.114756Z",
     "iopub.status.idle": "2025-02-26T12:14:29.127177Z",
     "shell.execute_reply": "2025-02-26T12:14:29.125966Z"
    },
    "papermill": {
     "duration": 0.031433,
     "end_time": "2025-02-26T12:14:29.129060",
     "exception": false,
     "start_time": "2025-02-26T12:14:29.097627",
     "status": "completed"
    },
    "tags": []
   },
   "outputs": [
    {
     "data": {
      "text/html": [
       "<div>\n",
       "<style scoped>\n",
       "    .dataframe tbody tr th:only-of-type {\n",
       "        vertical-align: middle;\n",
       "    }\n",
       "\n",
       "    .dataframe tbody tr th {\n",
       "        vertical-align: top;\n",
       "    }\n",
       "\n",
       "    .dataframe thead th {\n",
       "        text-align: right;\n",
       "    }\n",
       "</style>\n",
       "<table border=\"1\" class=\"dataframe\">\n",
       "  <thead>\n",
       "    <tr style=\"text-align: right;\">\n",
       "      <th></th>\n",
       "      <th>PRICE</th>\n",
       "      <th>COUNTRY</th>\n",
       "    </tr>\n",
       "    <tr>\n",
       "      <th>AGE</th>\n",
       "      <th></th>\n",
       "      <th></th>\n",
       "    </tr>\n",
       "  </thead>\n",
       "  <tbody>\n",
       "    <tr>\n",
       "      <th>17</th>\n",
       "      <td>39</td>\n",
       "      <td>bra</td>\n",
       "    </tr>\n",
       "    <tr>\n",
       "      <th>17</th>\n",
       "      <td>39</td>\n",
       "      <td>bra</td>\n",
       "    </tr>\n",
       "    <tr>\n",
       "      <th>17</th>\n",
       "      <td>49</td>\n",
       "      <td>bra</td>\n",
       "    </tr>\n",
       "    <tr>\n",
       "      <th>17</th>\n",
       "      <td>29</td>\n",
       "      <td>tur</td>\n",
       "    </tr>\n",
       "    <tr>\n",
       "      <th>17</th>\n",
       "      <td>49</td>\n",
       "      <td>tur</td>\n",
       "    </tr>\n",
       "  </tbody>\n",
       "</table>\n",
       "</div>"
      ],
      "text/plain": [
       "     PRICE COUNTRY\n",
       "AGE               \n",
       "17      39     bra\n",
       "17      39     bra\n",
       "17      49     bra\n",
       "17      29     tur\n",
       "17      49     tur"
      ]
     },
     "execution_count": 49,
     "metadata": {},
     "output_type": "execute_result"
    }
   ],
   "source": [
    "df.loc[(df[\"AGE\"] > 20) | (df[\"SEX\"] == \"male\") & (df[\"SOURCE\"] == \"android\"), [\"PRICE\", \"COUNTRY\"]].head() "
   ]
  },
  {
   "cell_type": "markdown",
   "id": "b834037e",
   "metadata": {
    "papermill": {
     "duration": 0.015819,
     "end_time": "2025-02-26T12:14:29.161224",
     "exception": false,
     "start_time": "2025-02-26T12:14:29.145405",
     "status": "completed"
    },
    "tags": []
   },
   "source": [
    "Toplulaştırma & Gruplama (Aggregation & Grouping)"
   ]
  },
  {
   "cell_type": "code",
   "execution_count": 50,
   "id": "087194d4",
   "metadata": {
    "execution": {
     "iopub.execute_input": "2025-02-26T12:14:29.194637Z",
     "iopub.status.busy": "2025-02-26T12:14:29.194312Z",
     "iopub.status.idle": "2025-02-26T12:14:29.217851Z",
     "shell.execute_reply": "2025-02-26T12:14:29.216783Z"
    },
    "papermill": {
     "duration": 0.042095,
     "end_time": "2025-02-26T12:14:29.219365",
     "exception": false,
     "start_time": "2025-02-26T12:14:29.177270",
     "status": "completed"
    },
    "tags": []
   },
   "outputs": [
    {
     "data": {
      "text/html": [
       "<div>\n",
       "<style scoped>\n",
       "    .dataframe tbody tr th:only-of-type {\n",
       "        vertical-align: middle;\n",
       "    }\n",
       "\n",
       "    .dataframe tbody tr th {\n",
       "        vertical-align: top;\n",
       "    }\n",
       "\n",
       "    .dataframe thead tr th {\n",
       "        text-align: left;\n",
       "    }\n",
       "\n",
       "    .dataframe thead tr:last-of-type th {\n",
       "        text-align: right;\n",
       "    }\n",
       "</style>\n",
       "<table border=\"1\" class=\"dataframe\">\n",
       "  <thead>\n",
       "    <tr>\n",
       "      <th></th>\n",
       "      <th>AGE</th>\n",
       "      <th colspan=\"2\" halign=\"left\">PRICE</th>\n",
       "    </tr>\n",
       "    <tr>\n",
       "      <th></th>\n",
       "      <th>mean</th>\n",
       "      <th>mean</th>\n",
       "      <th>sum</th>\n",
       "    </tr>\n",
       "    <tr>\n",
       "      <th>SEX</th>\n",
       "      <th></th>\n",
       "      <th></th>\n",
       "      <th></th>\n",
       "    </tr>\n",
       "  </thead>\n",
       "  <tbody>\n",
       "    <tr>\n",
       "      <th>female</th>\n",
       "      <td>23.508966</td>\n",
       "      <td>33.952308</td>\n",
       "      <td>88989</td>\n",
       "    </tr>\n",
       "    <tr>\n",
       "      <th>male</th>\n",
       "      <td>23.661202</td>\n",
       "      <td>34.329971</td>\n",
       "      <td>81671</td>\n",
       "    </tr>\n",
       "  </tbody>\n",
       "</table>\n",
       "</div>"
      ],
      "text/plain": [
       "              AGE      PRICE       \n",
       "             mean       mean    sum\n",
       "SEX                                \n",
       "female  23.508966  33.952308  88989\n",
       "male    23.661202  34.329971  81671"
      ]
     },
     "execution_count": 50,
     "metadata": {},
     "output_type": "execute_result"
    }
   ],
   "source": [
    "df.groupby(\"SEX\").agg({\"AGE\" : \"mean\", \"PRICE\" : [\"mean\", \"sum\"]})"
   ]
  },
  {
   "cell_type": "markdown",
   "id": "716feabb",
   "metadata": {
    "papermill": {
     "duration": 0.015815,
     "end_time": "2025-02-26T12:14:29.251514",
     "exception": false,
     "start_time": "2025-02-26T12:14:29.235699",
     "status": "completed"
    },
    "tags": []
   },
   "source": [
    "Pivot Table"
   ]
  },
  {
   "cell_type": "code",
   "execution_count": 51,
   "id": "50308f88",
   "metadata": {
    "execution": {
     "iopub.execute_input": "2025-02-26T12:14:29.285278Z",
     "iopub.status.busy": "2025-02-26T12:14:29.284856Z",
     "iopub.status.idle": "2025-02-26T12:14:29.315202Z",
     "shell.execute_reply": "2025-02-26T12:14:29.314148Z"
    },
    "papermill": {
     "duration": 0.049362,
     "end_time": "2025-02-26T12:14:29.316893",
     "exception": false,
     "start_time": "2025-02-26T12:14:29.267531",
     "status": "completed"
    },
    "tags": []
   },
   "outputs": [
    {
     "data": {
      "text/html": [
       "<div>\n",
       "<style scoped>\n",
       "    .dataframe tbody tr th:only-of-type {\n",
       "        vertical-align: middle;\n",
       "    }\n",
       "\n",
       "    .dataframe tbody tr th {\n",
       "        vertical-align: top;\n",
       "    }\n",
       "\n",
       "    .dataframe thead th {\n",
       "        text-align: right;\n",
       "    }\n",
       "</style>\n",
       "<table border=\"1\" class=\"dataframe\">\n",
       "  <thead>\n",
       "    <tr style=\"text-align: right;\">\n",
       "      <th>SOURCE</th>\n",
       "      <th>android</th>\n",
       "      <th>ios</th>\n",
       "    </tr>\n",
       "    <tr>\n",
       "      <th>COUNTRY</th>\n",
       "      <th></th>\n",
       "      <th></th>\n",
       "    </tr>\n",
       "  </thead>\n",
       "  <tbody>\n",
       "    <tr>\n",
       "      <th>bra</th>\n",
       "      <td>32874</td>\n",
       "      <td>18480</td>\n",
       "    </tr>\n",
       "    <tr>\n",
       "      <th>can</th>\n",
       "      <td>4233</td>\n",
       "      <td>3497</td>\n",
       "    </tr>\n",
       "    <tr>\n",
       "      <th>deu</th>\n",
       "      <td>9111</td>\n",
       "      <td>6374</td>\n",
       "    </tr>\n",
       "    <tr>\n",
       "      <th>fra</th>\n",
       "      <td>5490</td>\n",
       "      <td>4687</td>\n",
       "    </tr>\n",
       "    <tr>\n",
       "      <th>tur</th>\n",
       "      <td>8369</td>\n",
       "      <td>7320</td>\n",
       "    </tr>\n",
       "    <tr>\n",
       "      <th>usa</th>\n",
       "      <td>41559</td>\n",
       "      <td>28666</td>\n",
       "    </tr>\n",
       "  </tbody>\n",
       "</table>\n",
       "</div>"
      ],
      "text/plain": [
       "SOURCE   android    ios\n",
       "COUNTRY                \n",
       "bra        32874  18480\n",
       "can         4233   3497\n",
       "deu         9111   6374\n",
       "fra         5490   4687\n",
       "tur         8369   7320\n",
       "usa        41559  28666"
      ]
     },
     "execution_count": 51,
     "metadata": {},
     "output_type": "execute_result"
    }
   ],
   "source": [
    "df.pivot_table(values=\"PRICE\", index=\"COUNTRY\", columns=\"SOURCE\", aggfunc=\"sum\")"
   ]
  },
  {
   "cell_type": "markdown",
   "id": "fcd6bb36",
   "metadata": {
    "papermill": {
     "duration": 0.015923,
     "end_time": "2025-02-26T12:14:29.349066",
     "exception": false,
     "start_time": "2025-02-26T12:14:29.333143",
     "status": "completed"
    },
    "tags": []
   },
   "source": [
    "Apply & Lambda"
   ]
  },
  {
   "cell_type": "code",
   "execution_count": 52,
   "id": "c30d5981",
   "metadata": {
    "execution": {
     "iopub.execute_input": "2025-02-26T12:14:29.382906Z",
     "iopub.status.busy": "2025-02-26T12:14:29.382561Z",
     "iopub.status.idle": "2025-02-26T12:14:29.392347Z",
     "shell.execute_reply": "2025-02-26T12:14:29.391440Z"
    },
    "papermill": {
     "duration": 0.028493,
     "end_time": "2025-02-26T12:14:29.393794",
     "exception": false,
     "start_time": "2025-02-26T12:14:29.365301",
     "status": "completed"
    },
    "tags": []
   },
   "outputs": [
    {
     "data": {
      "text/html": [
       "<div>\n",
       "<style scoped>\n",
       "    .dataframe tbody tr th:only-of-type {\n",
       "        vertical-align: middle;\n",
       "    }\n",
       "\n",
       "    .dataframe tbody tr th {\n",
       "        vertical-align: top;\n",
       "    }\n",
       "\n",
       "    .dataframe thead th {\n",
       "        text-align: right;\n",
       "    }\n",
       "</style>\n",
       "<table border=\"1\" class=\"dataframe\">\n",
       "  <thead>\n",
       "    <tr style=\"text-align: right;\">\n",
       "      <th></th>\n",
       "      <th>PRICE</th>\n",
       "      <th>SOURCE</th>\n",
       "      <th>SEX</th>\n",
       "      <th>COUNTRY</th>\n",
       "      <th>AGE</th>\n",
       "    </tr>\n",
       "  </thead>\n",
       "  <tbody>\n",
       "    <tr>\n",
       "      <th>0</th>\n",
       "      <td>39</td>\n",
       "      <td>android</td>\n",
       "      <td>male</td>\n",
       "      <td>bra</td>\n",
       "      <td>17</td>\n",
       "    </tr>\n",
       "    <tr>\n",
       "      <th>1</th>\n",
       "      <td>39</td>\n",
       "      <td>android</td>\n",
       "      <td>male</td>\n",
       "      <td>bra</td>\n",
       "      <td>17</td>\n",
       "    </tr>\n",
       "    <tr>\n",
       "      <th>2</th>\n",
       "      <td>49</td>\n",
       "      <td>android</td>\n",
       "      <td>male</td>\n",
       "      <td>bra</td>\n",
       "      <td>17</td>\n",
       "    </tr>\n",
       "    <tr>\n",
       "      <th>3</th>\n",
       "      <td>29</td>\n",
       "      <td>android</td>\n",
       "      <td>male</td>\n",
       "      <td>tur</td>\n",
       "      <td>17</td>\n",
       "    </tr>\n",
       "    <tr>\n",
       "      <th>4</th>\n",
       "      <td>49</td>\n",
       "      <td>android</td>\n",
       "      <td>male</td>\n",
       "      <td>tur</td>\n",
       "      <td>17</td>\n",
       "    </tr>\n",
       "  </tbody>\n",
       "</table>\n",
       "</div>"
      ],
      "text/plain": [
       "   PRICE   SOURCE   SEX COUNTRY  AGE\n",
       "0     39  android  male     bra   17\n",
       "1     39  android  male     bra   17\n",
       "2     49  android  male     bra   17\n",
       "3     29  android  male     tur   17\n",
       "4     49  android  male     tur   17"
      ]
     },
     "execution_count": 52,
     "metadata": {},
     "output_type": "execute_result"
    }
   ],
   "source": [
    "df = df.reset_index(drop=True)\n",
    "df.head()"
   ]
  },
  {
   "cell_type": "code",
   "execution_count": 53,
   "id": "2c119052",
   "metadata": {
    "execution": {
     "iopub.execute_input": "2025-02-26T12:14:29.428662Z",
     "iopub.status.busy": "2025-02-26T12:14:29.428268Z",
     "iopub.status.idle": "2025-02-26T12:14:29.437636Z",
     "shell.execute_reply": "2025-02-26T12:14:29.436759Z"
    },
    "papermill": {
     "duration": 0.028697,
     "end_time": "2025-02-26T12:14:29.439005",
     "exception": false,
     "start_time": "2025-02-26T12:14:29.410308",
     "status": "completed"
    },
    "tags": []
   },
   "outputs": [
    {
     "data": {
      "text/html": [
       "<div>\n",
       "<style scoped>\n",
       "    .dataframe tbody tr th:only-of-type {\n",
       "        vertical-align: middle;\n",
       "    }\n",
       "\n",
       "    .dataframe tbody tr th {\n",
       "        vertical-align: top;\n",
       "    }\n",
       "\n",
       "    .dataframe thead th {\n",
       "        text-align: right;\n",
       "    }\n",
       "</style>\n",
       "<table border=\"1\" class=\"dataframe\">\n",
       "  <thead>\n",
       "    <tr style=\"text-align: right;\">\n",
       "      <th></th>\n",
       "      <th>AGE</th>\n",
       "    </tr>\n",
       "  </thead>\n",
       "  <tbody>\n",
       "    <tr>\n",
       "      <th>0</th>\n",
       "      <td>34</td>\n",
       "    </tr>\n",
       "    <tr>\n",
       "      <th>1</th>\n",
       "      <td>34</td>\n",
       "    </tr>\n",
       "    <tr>\n",
       "      <th>2</th>\n",
       "      <td>34</td>\n",
       "    </tr>\n",
       "    <tr>\n",
       "      <th>3</th>\n",
       "      <td>34</td>\n",
       "    </tr>\n",
       "    <tr>\n",
       "      <th>4</th>\n",
       "      <td>34</td>\n",
       "    </tr>\n",
       "  </tbody>\n",
       "</table>\n",
       "</div>"
      ],
      "text/plain": [
       "   AGE\n",
       "0   34\n",
       "1   34\n",
       "2   34\n",
       "3   34\n",
       "4   34"
      ]
     },
     "execution_count": 53,
     "metadata": {},
     "output_type": "execute_result"
    }
   ],
   "source": [
    "df.loc[:, df.columns.str.contains(\"AGE\")].apply(lambda x: x*2).head()"
   ]
  },
  {
   "cell_type": "code",
   "execution_count": 54,
   "id": "38885df7",
   "metadata": {
    "execution": {
     "iopub.execute_input": "2025-02-26T12:14:29.473142Z",
     "iopub.status.busy": "2025-02-26T12:14:29.472753Z",
     "iopub.status.idle": "2025-02-26T12:14:29.482954Z",
     "shell.execute_reply": "2025-02-26T12:14:29.481919Z"
    },
    "papermill": {
     "duration": 0.028783,
     "end_time": "2025-02-26T12:14:29.484428",
     "exception": false,
     "start_time": "2025-02-26T12:14:29.455645",
     "status": "completed"
    },
    "tags": []
   },
   "outputs": [
    {
     "data": {
      "text/html": [
       "<div>\n",
       "<style scoped>\n",
       "    .dataframe tbody tr th:only-of-type {\n",
       "        vertical-align: middle;\n",
       "    }\n",
       "\n",
       "    .dataframe tbody tr th {\n",
       "        vertical-align: top;\n",
       "    }\n",
       "\n",
       "    .dataframe thead th {\n",
       "        text-align: right;\n",
       "    }\n",
       "</style>\n",
       "<table border=\"1\" class=\"dataframe\">\n",
       "  <thead>\n",
       "    <tr style=\"text-align: right;\">\n",
       "      <th></th>\n",
       "      <th>PRICE</th>\n",
       "      <th>SOURCE</th>\n",
       "      <th>SEX</th>\n",
       "      <th>COUNTRY</th>\n",
       "      <th>AGE</th>\n",
       "    </tr>\n",
       "    <tr>\n",
       "      <th>SEX</th>\n",
       "      <th></th>\n",
       "      <th></th>\n",
       "      <th></th>\n",
       "      <th></th>\n",
       "      <th></th>\n",
       "    </tr>\n",
       "  </thead>\n",
       "  <tbody>\n",
       "    <tr>\n",
       "      <th>male</th>\n",
       "      <td>39</td>\n",
       "      <td>android</td>\n",
       "      <td>male</td>\n",
       "      <td>bra</td>\n",
       "      <td>17</td>\n",
       "    </tr>\n",
       "    <tr>\n",
       "      <th>male</th>\n",
       "      <td>39</td>\n",
       "      <td>android</td>\n",
       "      <td>male</td>\n",
       "      <td>bra</td>\n",
       "      <td>17</td>\n",
       "    </tr>\n",
       "    <tr>\n",
       "      <th>male</th>\n",
       "      <td>49</td>\n",
       "      <td>android</td>\n",
       "      <td>male</td>\n",
       "      <td>bra</td>\n",
       "      <td>17</td>\n",
       "    </tr>\n",
       "    <tr>\n",
       "      <th>male</th>\n",
       "      <td>29</td>\n",
       "      <td>android</td>\n",
       "      <td>male</td>\n",
       "      <td>tur</td>\n",
       "      <td>17</td>\n",
       "    </tr>\n",
       "    <tr>\n",
       "      <th>male</th>\n",
       "      <td>49</td>\n",
       "      <td>android</td>\n",
       "      <td>male</td>\n",
       "      <td>tur</td>\n",
       "      <td>17</td>\n",
       "    </tr>\n",
       "  </tbody>\n",
       "</table>\n",
       "</div>"
      ],
      "text/plain": [
       "      PRICE   SOURCE   SEX COUNTRY  AGE\n",
       "SEX                                    \n",
       "male     39  android  male     bra   17\n",
       "male     39  android  male     bra   17\n",
       "male     49  android  male     bra   17\n",
       "male     29  android  male     tur   17\n",
       "male     49  android  male     tur   17"
      ]
     },
     "execution_count": 54,
     "metadata": {},
     "output_type": "execute_result"
    }
   ],
   "source": [
    "df.index = df[\"SEX\"]\n",
    "df.head()"
   ]
  },
  {
   "cell_type": "code",
   "execution_count": 55,
   "id": "877e0e83",
   "metadata": {
    "execution": {
     "iopub.execute_input": "2025-02-26T12:14:29.519020Z",
     "iopub.status.busy": "2025-02-26T12:14:29.518603Z",
     "iopub.status.idle": "2025-02-26T12:14:29.528730Z",
     "shell.execute_reply": "2025-02-26T12:14:29.527765Z"
    },
    "papermill": {
     "duration": 0.029217,
     "end_time": "2025-02-26T12:14:29.530452",
     "exception": false,
     "start_time": "2025-02-26T12:14:29.501235",
     "status": "completed"
    },
    "tags": []
   },
   "outputs": [
    {
     "data": {
      "text/html": [
       "<div>\n",
       "<style scoped>\n",
       "    .dataframe tbody tr th:only-of-type {\n",
       "        vertical-align: middle;\n",
       "    }\n",
       "\n",
       "    .dataframe tbody tr th {\n",
       "        vertical-align: top;\n",
       "    }\n",
       "\n",
       "    .dataframe thead th {\n",
       "        text-align: right;\n",
       "    }\n",
       "</style>\n",
       "<table border=\"1\" class=\"dataframe\">\n",
       "  <thead>\n",
       "    <tr style=\"text-align: right;\">\n",
       "      <th></th>\n",
       "      <th>PRICE</th>\n",
       "      <th>SOURCE</th>\n",
       "      <th>SEX</th>\n",
       "      <th>COUNTRY</th>\n",
       "      <th>AGE</th>\n",
       "    </tr>\n",
       "    <tr>\n",
       "      <th>COUNTRY</th>\n",
       "      <th></th>\n",
       "      <th></th>\n",
       "      <th></th>\n",
       "      <th></th>\n",
       "      <th></th>\n",
       "    </tr>\n",
       "  </thead>\n",
       "  <tbody>\n",
       "    <tr>\n",
       "      <th>bra</th>\n",
       "      <td>39</td>\n",
       "      <td>android</td>\n",
       "      <td>male</td>\n",
       "      <td>bra</td>\n",
       "      <td>17</td>\n",
       "    </tr>\n",
       "    <tr>\n",
       "      <th>bra</th>\n",
       "      <td>39</td>\n",
       "      <td>android</td>\n",
       "      <td>male</td>\n",
       "      <td>bra</td>\n",
       "      <td>17</td>\n",
       "    </tr>\n",
       "    <tr>\n",
       "      <th>bra</th>\n",
       "      <td>49</td>\n",
       "      <td>android</td>\n",
       "      <td>male</td>\n",
       "      <td>bra</td>\n",
       "      <td>17</td>\n",
       "    </tr>\n",
       "    <tr>\n",
       "      <th>tur</th>\n",
       "      <td>29</td>\n",
       "      <td>android</td>\n",
       "      <td>male</td>\n",
       "      <td>tur</td>\n",
       "      <td>17</td>\n",
       "    </tr>\n",
       "    <tr>\n",
       "      <th>tur</th>\n",
       "      <td>49</td>\n",
       "      <td>android</td>\n",
       "      <td>male</td>\n",
       "      <td>tur</td>\n",
       "      <td>17</td>\n",
       "    </tr>\n",
       "  </tbody>\n",
       "</table>\n",
       "</div>"
      ],
      "text/plain": [
       "         PRICE   SOURCE   SEX COUNTRY  AGE\n",
       "COUNTRY                                   \n",
       "bra         39  android  male     bra   17\n",
       "bra         39  android  male     bra   17\n",
       "bra         49  android  male     bra   17\n",
       "tur         29  android  male     tur   17\n",
       "tur         49  android  male     tur   17"
      ]
     },
     "execution_count": 55,
     "metadata": {},
     "output_type": "execute_result"
    }
   ],
   "source": [
    "df.index = df[\"COUNTRY\"]\n",
    "df.head()"
   ]
  },
  {
   "cell_type": "code",
   "execution_count": 56,
   "id": "6a3d73cf",
   "metadata": {
    "execution": {
     "iopub.execute_input": "2025-02-26T12:14:29.566174Z",
     "iopub.status.busy": "2025-02-26T12:14:29.565796Z",
     "iopub.status.idle": "2025-02-26T12:14:29.575718Z",
     "shell.execute_reply": "2025-02-26T12:14:29.574813Z"
    },
    "papermill": {
     "duration": 0.029877,
     "end_time": "2025-02-26T12:14:29.577352",
     "exception": false,
     "start_time": "2025-02-26T12:14:29.547475",
     "status": "completed"
    },
    "tags": []
   },
   "outputs": [
    {
     "data": {
      "text/html": [
       "<div>\n",
       "<style scoped>\n",
       "    .dataframe tbody tr th:only-of-type {\n",
       "        vertical-align: middle;\n",
       "    }\n",
       "\n",
       "    .dataframe tbody tr th {\n",
       "        vertical-align: top;\n",
       "    }\n",
       "\n",
       "    .dataframe thead th {\n",
       "        text-align: right;\n",
       "    }\n",
       "</style>\n",
       "<table border=\"1\" class=\"dataframe\">\n",
       "  <thead>\n",
       "    <tr style=\"text-align: right;\">\n",
       "      <th></th>\n",
       "      <th>PRICE</th>\n",
       "      <th>SOURCE</th>\n",
       "      <th>SEX</th>\n",
       "      <th>COUNTRY</th>\n",
       "      <th>AGE</th>\n",
       "    </tr>\n",
       "    <tr>\n",
       "      <th>SOURCE</th>\n",
       "      <th></th>\n",
       "      <th></th>\n",
       "      <th></th>\n",
       "      <th></th>\n",
       "      <th></th>\n",
       "    </tr>\n",
       "  </thead>\n",
       "  <tbody>\n",
       "    <tr>\n",
       "      <th>android</th>\n",
       "      <td>39</td>\n",
       "      <td>android</td>\n",
       "      <td>male</td>\n",
       "      <td>bra</td>\n",
       "      <td>17</td>\n",
       "    </tr>\n",
       "    <tr>\n",
       "      <th>android</th>\n",
       "      <td>39</td>\n",
       "      <td>android</td>\n",
       "      <td>male</td>\n",
       "      <td>bra</td>\n",
       "      <td>17</td>\n",
       "    </tr>\n",
       "    <tr>\n",
       "      <th>android</th>\n",
       "      <td>49</td>\n",
       "      <td>android</td>\n",
       "      <td>male</td>\n",
       "      <td>bra</td>\n",
       "      <td>17</td>\n",
       "    </tr>\n",
       "    <tr>\n",
       "      <th>android</th>\n",
       "      <td>29</td>\n",
       "      <td>android</td>\n",
       "      <td>male</td>\n",
       "      <td>tur</td>\n",
       "      <td>17</td>\n",
       "    </tr>\n",
       "    <tr>\n",
       "      <th>android</th>\n",
       "      <td>49</td>\n",
       "      <td>android</td>\n",
       "      <td>male</td>\n",
       "      <td>tur</td>\n",
       "      <td>17</td>\n",
       "    </tr>\n",
       "  </tbody>\n",
       "</table>\n",
       "</div>"
      ],
      "text/plain": [
       "         PRICE   SOURCE   SEX COUNTRY  AGE\n",
       "SOURCE                                    \n",
       "android     39  android  male     bra   17\n",
       "android     39  android  male     bra   17\n",
       "android     49  android  male     bra   17\n",
       "android     29  android  male     tur   17\n",
       "android     49  android  male     tur   17"
      ]
     },
     "execution_count": 56,
     "metadata": {},
     "output_type": "execute_result"
    }
   ],
   "source": [
    "df.index = df[\"SOURCE\"]\n",
    "df.head()"
   ]
  },
  {
   "cell_type": "code",
   "execution_count": 57,
   "id": "c948712a",
   "metadata": {
    "execution": {
     "iopub.execute_input": "2025-02-26T12:14:29.613036Z",
     "iopub.status.busy": "2025-02-26T12:14:29.612611Z",
     "iopub.status.idle": "2025-02-26T12:14:29.622737Z",
     "shell.execute_reply": "2025-02-26T12:14:29.621732Z"
    },
    "papermill": {
     "duration": 0.029973,
     "end_time": "2025-02-26T12:14:29.624527",
     "exception": false,
     "start_time": "2025-02-26T12:14:29.594554",
     "status": "completed"
    },
    "tags": []
   },
   "outputs": [
    {
     "data": {
      "text/html": [
       "<div>\n",
       "<style scoped>\n",
       "    .dataframe tbody tr th:only-of-type {\n",
       "        vertical-align: middle;\n",
       "    }\n",
       "\n",
       "    .dataframe tbody tr th {\n",
       "        vertical-align: top;\n",
       "    }\n",
       "\n",
       "    .dataframe thead th {\n",
       "        text-align: right;\n",
       "    }\n",
       "</style>\n",
       "<table border=\"1\" class=\"dataframe\">\n",
       "  <thead>\n",
       "    <tr style=\"text-align: right;\">\n",
       "      <th></th>\n",
       "      <th>PRICE</th>\n",
       "      <th>SOURCE</th>\n",
       "      <th>SEX</th>\n",
       "      <th>COUNTRY</th>\n",
       "      <th>AGE</th>\n",
       "    </tr>\n",
       "    <tr>\n",
       "      <th>PRICE</th>\n",
       "      <th></th>\n",
       "      <th></th>\n",
       "      <th></th>\n",
       "      <th></th>\n",
       "      <th></th>\n",
       "    </tr>\n",
       "  </thead>\n",
       "  <tbody>\n",
       "    <tr>\n",
       "      <th>39</th>\n",
       "      <td>39</td>\n",
       "      <td>android</td>\n",
       "      <td>male</td>\n",
       "      <td>bra</td>\n",
       "      <td>17</td>\n",
       "    </tr>\n",
       "    <tr>\n",
       "      <th>39</th>\n",
       "      <td>39</td>\n",
       "      <td>android</td>\n",
       "      <td>male</td>\n",
       "      <td>bra</td>\n",
       "      <td>17</td>\n",
       "    </tr>\n",
       "    <tr>\n",
       "      <th>49</th>\n",
       "      <td>49</td>\n",
       "      <td>android</td>\n",
       "      <td>male</td>\n",
       "      <td>bra</td>\n",
       "      <td>17</td>\n",
       "    </tr>\n",
       "    <tr>\n",
       "      <th>29</th>\n",
       "      <td>29</td>\n",
       "      <td>android</td>\n",
       "      <td>male</td>\n",
       "      <td>tur</td>\n",
       "      <td>17</td>\n",
       "    </tr>\n",
       "    <tr>\n",
       "      <th>49</th>\n",
       "      <td>49</td>\n",
       "      <td>android</td>\n",
       "      <td>male</td>\n",
       "      <td>tur</td>\n",
       "      <td>17</td>\n",
       "    </tr>\n",
       "  </tbody>\n",
       "</table>\n",
       "</div>"
      ],
      "text/plain": [
       "       PRICE   SOURCE   SEX COUNTRY  AGE\n",
       "PRICE                                   \n",
       "39        39  android  male     bra   17\n",
       "39        39  android  male     bra   17\n",
       "49        49  android  male     bra   17\n",
       "29        29  android  male     tur   17\n",
       "49        49  android  male     tur   17"
      ]
     },
     "execution_count": 57,
     "metadata": {},
     "output_type": "execute_result"
    }
   ],
   "source": [
    "df.index = df[\"PRICE\"]\n",
    "df.head()"
   ]
  }
 ],
 "metadata": {
  "kaggle": {
   "accelerator": "none",
   "dataSources": [
    {
     "datasetId": 6719634,
     "sourceId": 10822420,
     "sourceType": "datasetVersion"
    }
   ],
   "dockerImageVersionId": 30918,
   "isGpuEnabled": false,
   "isInternetEnabled": true,
   "language": "python",
   "sourceType": "notebook"
  },
  "kernelspec": {
   "display_name": "Python 3",
   "language": "python",
   "name": "python3"
  },
  "language_info": {
   "codemirror_mode": {
    "name": "ipython",
    "version": 3
   },
   "file_extension": ".py",
   "mimetype": "text/x-python",
   "name": "python",
   "nbconvert_exporter": "python",
   "pygments_lexer": "ipython3",
   "version": "3.10.12"
  },
  "papermill": {
   "default_parameters": {},
   "duration": 6.926776,
   "end_time": "2025-02-26T12:14:30.161560",
   "environment_variables": {},
   "exception": null,
   "input_path": "__notebook__.ipynb",
   "output_path": "__notebook__.ipynb",
   "parameters": {},
   "start_time": "2025-02-26T12:14:23.234784",
   "version": "2.6.0"
  }
 },
 "nbformat": 4,
 "nbformat_minor": 5
}
